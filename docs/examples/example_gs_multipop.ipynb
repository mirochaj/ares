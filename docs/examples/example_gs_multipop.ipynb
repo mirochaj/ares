{
 "cells": [
  {
   "cell_type": "markdown",
   "id": "dd69f0b0",
   "metadata": {},
   "source": [
    "# Models with Multiple Source Populations"
   ]
  },
  {
   "cell_type": "markdown",
   "id": "cc4eb8de",
   "metadata": {},
   "source": [
    "*ARES* can handle an arbitrary number of source populations. To\n",
    "access this functionality, create a dictionary representing each source\n",
    "population of interest. Below, we'll create a population representative of PopII stars and another representative of PopIII stars.\n",
    "\n",
    "Before we start, it is important to note that in *ARES*, source populations are identified by their spectra over some contiguous interval in photon energy. This can be somewhat counterintuitive. For example, though UV emission from stars and X-ray emission from their compact remnants, e.g., X-ray binary systems, are both natural byproducts of star formation, we treat them as separate source populations in *ARES* even though the emission from each type of source is related to the same rate of star formation. However, because stars and XRBs have very different spectra, whose normalizations are parameterized differently, it is more convenient in the code to keep them separate. Because of this, what you might think of as a single source population (stars and their remnants) actually constitutes *two* source populations in *ARES*. \n",
    "\n",
    "Let's start with a PopII source population, and a few standard imports:"
   ]
  },
  {
   "cell_type": "code",
   "execution_count": 1,
   "id": "b2675b7f",
   "metadata": {},
   "outputs": [
    {
     "name": "stdout",
     "output_type": "stream",
     "text": [
      "Populating the interactive namespace from numpy and matplotlib\n"
     ]
    }
   ],
   "source": [
    "%pylab inline\n",
    "import ares\n",
    "import numpy as np\n",
    "import matplotlib.pyplot as pl"
   ]
  },
  {
   "cell_type": "code",
   "execution_count": 2,
   "id": "1a1c05d5",
   "metadata": {},
   "outputs": [],
   "source": [
    "pars = \\\n",
    "{\n",
    " 'problem_type': 100,              # Blank slate global 21-cm signal\n",
    "\n",
    "\n",
    " # Setup star formation\n",
    " 'pop_Tmin{0}': 1e4,               # atomic cooling halos\n",
    " 'pop_fstar{0}': 1e-1,             # 10% star formation efficiency\n",
    " \n",
    " # Setup UV emission\n",
    " 'pop_sed_model{0}': True,\n",
    " 'pop_sed{0}': 'bb',               # PopII stars -> 10^4 K blackbodies\n",
    " 'pop_temperature{0}': 1e4,\n",
    " 'pop_rad_yield{0}': 1e42,\n",
    " 'pop_fesc{0}': 0.2,\n",
    " 'pop_Emin{0}': 10.19, \n",
    " 'pop_Emax{0}': 24.6,\n",
    " 'pop_EminNorm{0}': 13.6,\n",
    " 'pop_EmaxNorm{0}': 24.6,\n",
    " 'pop_lya_src{0}': True,\n",
    " 'pop_ion_src_cgm{0}': True,\n",
    " 'pop_heat_src_igm{0}': False,\n",
    " \n",
    " # Setup X-ray emission\n",
    " 'pop_sed{1}': 'pl',\n",
    " 'pop_alpha{1}': -1.5, \n",
    " 'pop_rad_yield{1}': 2.6e38,\n",
    " 'pop_Emin{1}': 2e2, \n",
    " 'pop_Emax{1}': 3e4,\n",
    " 'pop_EminNorm{1}': 5e2,\n",
    " 'pop_EmaxNorm{1}': 8e3,\n",
    " \n",
    " 'pop_lya_src{1}': False,\n",
    " 'pop_ion_src_cgm{1}': False,\n",
    " 'pop_heat_src_igm{1}': True,\n",
    " \n",
    " 'pop_sfr_model{1}': 'link:sfrd:0',\n",
    "}"
   ]
  },
  {
   "cell_type": "markdown",
   "id": "02ed2268",
   "metadata": {},
   "source": [
    "**NOTE:** See [problem_types](../problem_types.html) for more information about why we chose ``problem_type=100`` here.   "
   ]
  },
  {
   "cell_type": "markdown",
   "id": "4c17ae82",
   "metadata": {},
   "source": [
    "We might as well go ahead and run this to establish a baseline:"
   ]
  },
  {
   "cell_type": "code",
   "execution_count": 3,
   "id": "440106f7",
   "metadata": {},
   "outputs": [
    {
     "name": "stdout",
     "output_type": "stream",
     "text": [
      "# Loaded $ARES/input/inits/inits_planck_TTTEEE_lowl_lowE_best.txt.\n",
      "\n",
      "############################################################################\n",
      "##                       ARES Simulation: Overview                        ##\n",
      "############################################################################\n",
      "## ---------------------------------------------------------------------- ##\n",
      "## Source Populations                                                     ##\n",
      "## ---------------------------------------------------------------------- ##\n",
      "##           sfrd    sed  radio  O/IR  Lya    LW   LyC   Xray  RTE        ##\n",
      "## pop #0 :  fcoll    yes    -     -     x     x     x     -              ##\n",
      "## pop #1 : sfrd->0   yes    -     -     -     -     -     x              ##\n",
      "## ---------------------------------------------------------------------- ##\n",
      "## Physics                                                                ##\n",
      "## ---------------------------------------------------------------------- ##\n",
      "## cgm_initial_temperature        : [10000.0]                             ##\n",
      "## clumping_factor                : 1                                     ##\n",
      "## secondary_ionization           : 1                                     ##\n",
      "## approx_Salpha                  : 1                                     ##\n",
      "## include_He                     : False                                 ##\n",
      "## feedback_LW                    : False                                 ##\n",
      "############################################################################\n",
      "# Loaded $ARES/input/hmf/hmf_ST_planck_TTTEEE_lowl_lowE_best_logM_1400_4-18_z_1201_0-60.hdf5.\n"
     ]
    },
    {
     "name": "stderr",
     "output_type": "stream",
     "text": [
      "gs-21cm: 100% |#############################################| Time:  0:00:04 \n"
     ]
    },
    {
     "data": {
      "image/png": "[encoded data removed]",
      "text/plain": [
       "<Figure size 432x288 with 2 Axes>"
      ]
     },
     "metadata": {
      "needs_background": "light"
     },
     "output_type": "display_data"
    }
   ],
   "source": [
    "sim = ares.simulations.Global21cm(**pars)\n",
    "sim.run()\n",
    "    \n",
    "ax, zax = sim.GlobalSignature(color='k')"
   ]
  },
  {
   "cell_type": "markdown",
   "id": "f4d90c91",
   "metadata": {},
   "source": [
    "Now, let's add a PopIII-like source population. We'll assume that PopIII sources are brighter on average (in both the UV and X-ray) but live in lower mass halos. We could just copy-pase the dictionary above, change the population ID numbers and, for example, the UV and X-ray ``pop_rad_yield`` parameters. Or, we could use some built-in tricks to speed this up.\n",
    "\n",
    "First, let's take the PopII parameter set and make a ``ParameterBundle`` object:"
   ]
  },
  {
   "cell_type": "code",
   "execution_count": 4,
   "id": "b1d2a6a2",
   "metadata": {},
   "outputs": [],
   "source": [
    "popII = ares.util.ParameterBundle(**pars)"
   ]
  },
  {
   "cell_type": "markdown",
   "id": "456624e3",
   "metadata": {},
   "source": [
    "This let's us easily extract parameters according to their ID number, and assign new ones"
   ]
  },
  {
   "cell_type": "code",
   "execution_count": 5,
   "id": "36609007",
   "metadata": {},
   "outputs": [],
   "source": [
    "popIII_uv = popII.pars_by_pop(0, True)\n",
    "popIII_uv.num = 2\n",
    "popIII_xr = popII.pars_by_pop(1, True)\n",
    "popIII_xr.num = 3"
   ]
  },
  {
   "cell_type": "markdown",
   "id": "8491c35d",
   "metadata": {},
   "source": [
    "The second argument tells *ARES* to remove the parameter ID numbers.\n",
    "\n",
    "Now, we can simply reset the ID numbers and update a few important parameters:"
   ]
  },
  {
   "cell_type": "code",
   "execution_count": 6,
   "id": "352eeaa0",
   "metadata": {},
   "outputs": [],
   "source": [
    "popIII_uv['pop_Tmin{2}'] = 300\n",
    "popIII_uv['pop_Tmax{2}'] = 1e4\n",
    "popIII_uv['pop_temperature{2}'] = 1e5\n",
    "popIII_uv['pop_fstar{2}'] = 1e-4\n",
    "    \n",
    "popIII_xr['pop_sfr_model{3}'] = 'link:sfrd:2'\n",
    "popIII_xr['pop_rad_yield{3}'] = 2.6e39"
   ]
  },
  {
   "cell_type": "markdown",
   "id": "b77af893",
   "metadata": {},
   "source": [
    "Now, let's make the final parameter dictionary and run it:    "
   ]
  },
  {
   "cell_type": "code",
   "execution_count": 7,
   "id": "b2e59cf8",
   "metadata": {},
   "outputs": [
    {
     "name": "stdout",
     "output_type": "stream",
     "text": [
      "# Loaded $ARES/input/inits/inits_planck_TTTEEE_lowl_lowE_best.txt.\n",
      "\n",
      "############################################################################\n",
      "##                       ARES Simulation: Overview                        ##\n",
      "############################################################################\n",
      "## ---------------------------------------------------------------------- ##\n",
      "## Source Populations                                                     ##\n",
      "## ---------------------------------------------------------------------- ##\n",
      "##           sfrd    sed  radio  O/IR  Lya    LW   LyC   Xray  RTE        ##\n",
      "## pop #0 :  fcoll    yes    -     -     x     x     x     -              ##\n",
      "## pop #1 : sfrd->0   yes    -     -     -     -     -     x              ##\n",
      "## pop #2 :  fcoll    yes    -     -     x     x     x     -              ##\n",
      "## pop #3 : sfrd->2   yes    -     -     -     -     -     x              ##\n",
      "## ---------------------------------------------------------------------- ##\n",
      "## Physics                                                                ##\n",
      "## ---------------------------------------------------------------------- ##\n",
      "## cgm_initial_temperature        : [10000.0]                             ##\n",
      "## clumping_factor                : 1                                     ##\n",
      "## secondary_ionization           : 1                                     ##\n",
      "## approx_Salpha                  : 1                                     ##\n",
      "## include_He                     : False                                 ##\n",
      "## feedback_LW                    : False                                 ##\n",
      "############################################################################\n",
      "# Loaded $ARES/input/hmf/hmf_ST_planck_TTTEEE_lowl_lowE_best_logM_1400_4-18_z_1201_0-60.hdf5.\n",
      "# Loaded $ARES/input/hmf/hmf_ST_planck_TTTEEE_lowl_lowE_best_logM_1400_4-18_z_1201_0-60.hdf5.\n"
     ]
    },
    {
     "name": "stderr",
     "output_type": "stream",
     "text": [
      "gs-21cm: 100% |#############################################| Time:  0:00:04 \n"
     ]
    },
    {
     "data": {
      "image/png": "[encoded data removed]",
      "text/plain": [
       "<Figure size 432x288 with 3 Axes>"
      ]
     },
     "metadata": {
      "needs_background": "light"
     },
     "output_type": "display_data"
    }
   ],
   "source": [
    "pars.update(popIII_uv)\n",
    "pars.update(popIII_xr)\n",
    "    \n",
    "sim2 = ares.simulations.Global21cm(**pars)\n",
    "sim2.run()\n",
    "\n",
    "ax, zax = sim.GlobalSignature(color='k')\n",
    "ax, zax = sim2.GlobalSignature(color='b', ax=ax)"
   ]
  },
  {
   "cell_type": "markdown",
   "id": "3ddd3d3d",
   "metadata": {},
   "source": [
    "Note that the parameter file hangs onto the parameters of each population separately. To verify a few key changes, you could do:  "
   ]
  },
  {
   "cell_type": "code",
   "execution_count": 8,
   "id": "52da88af",
   "metadata": {},
   "outputs": [
    {
     "data": {
      "text/plain": [
       "4"
      ]
     },
     "execution_count": 8,
     "metadata": {},
     "output_type": "execute_result"
    }
   ],
   "source": [
    "len(sim2.pf.pfs)"
   ]
  },
  {
   "cell_type": "code",
   "execution_count": 9,
   "id": "e39a05d0",
   "metadata": {},
   "outputs": [
    {
     "name": "stdout",
     "output_type": "stream",
     "text": [
      "pop_Tmin 10000.0 300\n",
      "pop_fstar 0.1 0.0001\n",
      "pop_rad_yield 1e+42 1e+42\n"
     ]
    }
   ],
   "source": [
    "for key in ['pop_Tmin', 'pop_fstar', 'pop_rad_yield']:\n",
    "    print(key, sim2.pf.pfs[0][key], sim2.pf.pfs[2][key])"
   ]
  },
  {
   "cell_type": "markdown",
   "id": "3f81d3fb",
   "metadata": {},
   "source": [
    "**NOTE:** These are very simple models for PopII and PopIII stars. For more sophisticated approaches, see [More Realistic Galaxy Populations](example_pop_galaxy) and [Including Population III Stars](example_pop_popIII).    \n"
   ]
  }
 ],
 "metadata": {
  "kernelspec": {
   "display_name": "Python 3 (ipykernel)",
   "language": "python",
   "name": "python3"
  },
  "language_info": {
   "codemirror_mode": {
    "name": "ipython",
    "version": 3
   },
   "file_extension": ".py",
   "mimetype": "text/x-python",
   "name": "python",
   "nbconvert_exporter": "python",
   "pygments_lexer": "ipython3",
   "version": "3.9.13"
  }
 },
 "nbformat": 4,
 "nbformat_minor": 5
}
