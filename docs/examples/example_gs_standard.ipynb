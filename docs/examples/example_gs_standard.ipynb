{
 "cells": [
  {
   "cell_type": "markdown",
   "id": "bdcb5c7e",
   "metadata": {},
   "source": [
    "# Simple Physical Models for the Global 21-cm Signal"
   ]
  },
  {
   "cell_type": "markdown",
   "id": "96f33cbe",
   "metadata": {},
   "source": [
    "To begin, first import ares and a few standards"
   ]
  },
  {
   "cell_type": "code",
   "execution_count": 1,
   "id": "e57dddbb",
   "metadata": {},
   "outputs": [
    {
     "name": "stdout",
     "output_type": "stream",
     "text": [
      "Populating the interactive namespace from numpy and matplotlib\n"
     ]
    }
   ],
   "source": [
    "%pylab inline\n",
    "import ares\n",
    "import matplotlib.pyplot as pl"
   ]
  },
  {
   "cell_type": "markdown",
   "id": "2bcda2af",
   "metadata": {},
   "source": [
    "To generate a model of the global 21-cm signal, we need to use the \n",
    "``ares.simulations.Global21cm``  class. With no arguments, default parameter values will be used:"
   ]
  },
  {
   "cell_type": "code",
   "execution_count": 2,
   "id": "4e5f2fdf",
   "metadata": {},
   "outputs": [
    {
     "name": "stdout",
     "output_type": "stream",
     "text": [
      "# Loaded $ARES/input/inits/inits_planck_TTTEEE_lowl_lowE_best.txt.\n",
      "\n",
      "############################################################################\n",
      "##                       ARES Simulation: Overview                        ##\n",
      "############################################################################\n",
      "## ---------------------------------------------------------------------- ##\n",
      "## Source Populations                                                     ##\n",
      "## ---------------------------------------------------------------------- ##\n",
      "##           sfrd    sed  radio  O/IR  Lya    LW   LyC   Xray  RTE        ##\n",
      "## pop #0 :  fcoll    yes    -     -     x     x     -     -              ##\n",
      "## pop #1 : sfrd->0   yes    -     -     -     -     -     x              ##\n",
      "## pop #2 : sfrd->0   yes    -     -     -     -     x     -              ##\n",
      "## ---------------------------------------------------------------------- ##\n",
      "## Physics                                                                ##\n",
      "## ---------------------------------------------------------------------- ##\n",
      "## cgm_initial_temperature        : [10000.0]                             ##\n",
      "## clumping_factor                : 1                                     ##\n",
      "## secondary_ionization           : 1                                     ##\n",
      "## approx_Salpha                  : 1                                     ##\n",
      "## include_He                     : False                                 ##\n",
      "## feedback_LW                    : False                                 ##\n",
      "############################################################################\n"
     ]
    }
   ],
   "source": [
    "sim = ares.simulations.Global21cm()"
   ]
  },
  {
   "cell_type": "markdown",
   "id": "541ee65d",
   "metadata": {},
   "source": [
    "Since a lot can happen before we actually  start solving for the evolution of IGM properties (e.g., initializing radiation sources, tabulating the collapsed fraction evolution and constructing splines for interpolation, tabulating the IGM optical depth, etc.), initialization and execution of calculations are separate. \n",
    "\n",
    "To run the simulation, we do:"
   ]
  },
  {
   "cell_type": "code",
   "execution_count": 3,
   "id": "6949a605",
   "metadata": {},
   "outputs": [
    {
     "name": "stdout",
     "output_type": "stream",
     "text": [
      "# Loaded $ARES/input/hmf/hmf_ST_planck_TTTEEE_lowl_lowE_best_logM_1400_4-18_z_1201_0-60.hdf5.\n"
     ]
    },
    {
     "name": "stderr",
     "output_type": "stream",
     "text": [
      "gs-21cm: 100% |#############################################| Time:  0:00:03 \n"
     ]
    }
   ],
   "source": [
    "sim.run()"
   ]
  },
  {
   "cell_type": "markdown",
   "id": "ade2c580",
   "metadata": {},
   "source": [
    "The main results are stored in the attribute ``sim.history``, which is a dictionary\n",
    "containing the evolution of many quantities with time (see [the fields listing](../fields.html)) for more information on what's available). To look at the results,\n",
    "you can access these quantities directly:"
   ]
  },
  {
   "cell_type": "code",
   "execution_count": 4,
   "id": "8237d479",
   "metadata": {
    "scrolled": true
   },
   "outputs": [
    {
     "data": {
      "text/plain": [
       "[<matplotlib.lines.Line2D at 0x185bded90>]"
      ]
     },
     "execution_count": 4,
     "metadata": {},
     "output_type": "execute_result"
    },
    {
     "data": {
      "image/png": "[encoded data removed]",
      "text/plain": [
       "<Figure size 432x288 with 1 Axes>"
      ]
     },
     "metadata": {
      "needs_background": "light"
     },
     "output_type": "display_data"
    }
   ],
   "source": [
    "pl.semilogx(sim.history['z'], sim.history['dTb'])"
   ]
  },
  {
   "cell_type": "markdown",
   "id": "71f75917",
   "metadata": {},
   "source": [
    "Or, you can access convenience routines within the analysis class, which\n",
    "is inherited by the ``ares.simulations.Global21cm`` class:"
   ]
  },
  {
   "cell_type": "code",
   "execution_count": 5,
   "id": "d6d35ed5",
   "metadata": {
    "scrolled": true
   },
   "outputs": [
    {
     "data": {
      "text/plain": [
       "(<AxesSubplot:xlabel='$\\\\nu \\\\ (\\\\mathrm{MHz})$', ylabel='$\\\\delta T_b \\\\ (\\\\mathrm{mK})$'>,\n",
       " <AxesSubplot:label='b3e5996d-4a8a-492c-a757-4d11e3b1d6ff', xlabel='$z$'>)"
      ]
     },
     "execution_count": 5,
     "metadata": {},
     "output_type": "execute_result"
    },
    {
     "data": {
      "image/png": "[encoded data removed]",
      "text/plain": [
       "<Figure size 432x288 with 2 Axes>"
      ]
     },
     "metadata": {
      "needs_background": "light"
     },
     "output_type": "display_data"
    }
   ],
   "source": [
    "sim.GlobalSignature(fig=2)"
   ]
  },
  {
   "cell_type": "markdown",
   "id": "1a79ccd6",
   "metadata": {},
   "source": [
    "If you'd like to save the results to disk, do something like: "
   ]
  },
  {
   "cell_type": "code",
   "execution_count": 6,
   "id": "7111995d",
   "metadata": {},
   "outputs": [
    {
     "name": "stdout",
     "output_type": "stream",
     "text": [
      "Writing test_21cm.blobs.pkl...\n",
      "Wrote test_21cm.history.pkl\n",
      "Writing test_21cm.parameters.pkl...\n"
     ]
    }
   ],
   "source": [
    "sim.save('test_21cm', clobber=True)"
   ]
  },
  {
   "cell_type": "markdown",
   "id": "1cc87e91",
   "metadata": {},
   "source": [
    "which saves the contents of ``sim.history`` at all time snapshots to the file ``test_21cm.history.pkl`` and the parameters used in the model in ``test_21cm.parameters.pkl``.\n",
    "\n",
    "**NOTE:** The default format for output files is ``pkl``, though ASCII (e.g., ``.txt`` or ``.dat``), ``.npz``, and ``.hdf5`` are also supported. Use the optional keyword argument ``suffix``."
   ]
  },
  {
   "cell_type": "markdown",
   "id": "37c75d30",
   "metadata": {},
   "source": [
    "If you just want the plot, you can do, e.g.,"
   ]
  },
  {
   "cell_type": "code",
   "execution_count": 7,
   "id": "6861896d",
   "metadata": {},
   "outputs": [
    {
     "data": {
      "text/plain": [
       "<Figure size 432x288 with 0 Axes>"
      ]
     },
     "metadata": {},
     "output_type": "display_data"
    }
   ],
   "source": [
    "pl.figure(2)\n",
    "pl.savefig('ares_gs_default.png')"
   ]
  },
  {
   "cell_type": "markdown",
   "id": "9a25da47",
   "metadata": {},
   "source": [
    "To read results from disk, you can supply a filename *prefix* to ``ares.analysis.Global21cm`` \n",
    "rather than a ``ares.simulations.Global21cm`` instance if you'd like, e.g., "
   ]
  },
  {
   "cell_type": "code",
   "execution_count": 8,
   "id": "83d6544d",
   "metadata": {},
   "outputs": [],
   "source": [
    "anl = ares.analysis.Global21cm('test_21cm')"
   ]
  },
  {
   "cell_type": "markdown",
   "id": "96aa4071",
   "metadata": {},
   "source": [
    "See [built-in analysis routines](../analysis.html) for other options.\n",
    "\n",
    "See the [parameters list](../params.html) to learn about other parameters that can be supplied\n",
    "to ``ares.simulations.Global21cm`` as keyword arguments."
   ]
  },
  {
   "cell_type": "markdown",
   "id": "8e06f801",
   "metadata": {},
   "source": [
    "## 2-D Parameter Study"
   ]
  },
  {
   "cell_type": "markdown",
   "id": "4666a66a",
   "metadata": {},
   "source": [
    "To do simple parameter study, you could do something like:"
   ]
  },
  {
   "cell_type": "code",
   "execution_count": 9,
   "id": "e66400a8",
   "metadata": {},
   "outputs": [
    {
     "data": {
      "text/plain": [
       "<matplotlib.legend.Legend at 0x18d149a90>"
      ]
     },
     "execution_count": 9,
     "metadata": {},
     "output_type": "execute_result"
    },
    {
     "data": {
      "image/png": "[encoded data removed]",
      "text/plain": [
       "<Figure size 432x288 with 2 Axes>"
      ]
     },
     "metadata": {
      "needs_background": "light"
     },
     "output_type": "display_data"
    }
   ],
   "source": [
    "ax = None\n",
    "for i, fX in enumerate([0.1, 1.]):\n",
    "    for j, fstar in enumerate([0.1, 0.5]):\n",
    "        sim = ares.simulations.Global21cm(fX=fX, fstar=fstar, \n",
    "            verbose=False, progress_bar=False)\n",
    "        sim.run()\n",
    "\n",
    "\n",
    "        # Plot the global signal\n",
    "        ax, zax = sim.GlobalSignature(ax=ax, fig=3, z_ax=i==j==0,\n",
    "            label=r'$f_X=%.2g, f_{\\ast}=%.2g$' % (fX, fstar))\n",
    "            \n",
    "            \n",
    "ax.legend(loc='lower right', fontsize=14) "
   ]
  },
  {
   "cell_type": "markdown",
   "id": "8b085421",
   "metadata": {},
   "source": [
    "These parameters, along with ``Tmin``, ``Nlw``, and ``Nion`` round out the simplest parameterization of the signal (that I'm aware of) that's tied to cosmology/galaxy formation in any way. It's of course highly simplified, in that it treats galaxies in a very average sense. For more sophisticated models, check out [this example](example_pop_galaxy).\n",
    "                 \n",
    "Check out [the listing](../params_populations.html) of the most common parameters that govern the properties of source populations, and [](example_grid) for examples of how to run and analyze large grids of models more easily. The key advantage of using the built-in model grid runner is having *ARES* automatically store any information from each calculation that you deem desirable, and store it in a format amenable to the built-in analysis routines."
   ]
  },
  {
   "cell_type": "markdown",
   "id": "b2d5e456",
   "metadata": {},
   "source": [
    "## A Note About Backward Compatibility"
   ]
  },
  {
   "cell_type": "markdown",
   "id": "5304e149",
   "metadata": {},
   "source": [
    "The models shown in this section are no longer the \"best\" models in *ARES*, though they may suffice depending on your interests. As alluded to at the end of the previous section, the chief shortcoming of these models is that their parameters are essentially averages over the entire galaxy population, when in reality galaxy properties are known to vary with mass and many other properties.\n",
    "\n",
    "This was the motivation behind [our paper in 2017](http://adsabs.harvard.edu/abs/2017MNRAS.464.1365M), in which we generalized the star formation efficiency to be a function of halo mass and time, and moved to using stellar population synthesis models to determine the UV emissivity of galaxies, rather than choosing $N_{\\mathrm{LW}}$, $N_{\\mathrm{ion}}$, etc. by hand (see [More Realistic Galaxy Populations](example_pop_galaxy)). These updates led to a new parameter-naming convention in which all population-specific parameters were given a ``pop_`` prefix. So, in place of ``Nlw``, ``Nion``, ``fX``, now one should set ``pop_rad_yield`` in a particular band (defined by ``pop_Emin`` and ``pop_Emax``). See [the parameter listing for populations](params_populations) for more information about that. \n",
    "\n",
    "Currently, in order to ensure backward compatibility at some level, *ARES* will automatically recognize the parameters used above and change them to ``pop_rad_yield`` etc. following the new convention. This means that there are three different values of ``pop_rad_yield``: one for the soft UV (non-ionizing) photons (related to ``Nlw``), one for the Lyman continuum photons (related to ``Nion``), and one for X-rays (related to ``fX``). This division was put in place because these three wavelength regimes affect the 21-cm background in different ways.\n",
    "\n",
    "In order to differentiate sources of radiation in different bands, we now must add a population identification number to ``pop_*`` parameters. Right now, ``fX``, ``Nion``, ``Nlw``, ``Tmin``, and ``fstar`` will automatically be updated in the following way:\n",
    "\n",
    "- The value of ``Nlw`` is assigned to ``pop_rad_yield{0}``, and ``pop_Emin{0}`` and ``pop_Emax{0}`` are set to 10.2 and 13.6, respectively.\n",
    "- The value of ``fX`` is multiplied by ``cX`` (generally $2.6 \\times 10^{39} \\ \\mathrm{erg} \\ \\mathrm{s}^{-1} \\ (M_{\\odot} \\ \\mathrm{yr}^{-1})^{-1})$ and assigned to ``pop_rad_yield{1}``, and ``pop_Emin{1}`` and ``pop_Emax{1}`` are set to 200 and 30000, respectively.\n",
    "- The value of ``Nion`` is assigned to ``pop_rad_yield{2}``, and ``pop_Emin{2}`` and ``pop_Emax{2}`` are set to 13.6 and 24.6, respectively.\n",
    "- ``pop_Tmin{0}``, ``pop_Tmin{1}``, and ``pop_Tmin{2}`` are all set to the value of ``Tmin``. Likewise for ``fstar``.\n",
    "\n",
    "Unfortunately not all parameters will be automatically converted in this way. If you get an error message about an \"orphan parameter,\" this means you have supplied a ``pop_`` parameter without an ID number, and so *ARES* doesn't know which population is meant to respond to your change. This is an easy mistake to make, especially when working with parameters like ``Nlw``, ``Nion`` etc., because *ARES* is automatically converting them to ``pop_*`` parameters."
   ]
  },
  {
   "cell_type": "code",
   "execution_count": null,
   "id": "8b2660bc",
   "metadata": {},
   "outputs": [],
   "source": []
  }
 ],
 "metadata": {
  "kernelspec": {
   "display_name": "Python 3 (ipykernel)",
   "language": "python",
   "name": "python3"
  },
  "language_info": {
   "codemirror_mode": {
    "name": "ipython",
    "version": 3
   },
   "file_extension": ".py",
   "mimetype": "text/x-python",
   "name": "python",
   "nbconvert_exporter": "python",
   "pygments_lexer": "ipython3",
   "version": "3.9.13"
  }
 },
 "nbformat": 4,
 "nbformat_minor": 5
}
