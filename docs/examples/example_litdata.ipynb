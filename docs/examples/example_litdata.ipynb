{
 "cells": [
  {
   "cell_type": "markdown",
   "id": "fdccdd1c",
   "metadata": {},
   "source": [
    "# Working with Data and Models From the Literature"
   ]
  },
  {
   "cell_type": "markdown",
   "id": "dc7ef8da",
   "metadata": {},
   "source": [
    "A very incomplete set of data from from the literature exist in ``$ARES/input/litdata``. Each file, named using the convention ``<last name of first author><year>.py``, is composed of dictionaries containing the information most useful to *ARES* (at least when first transcribed). \n",
    "\n",
    "**NOTE:** May be worth interfacing with [CoReCon](https://github.com/EGaraldi/corecon) at some point! \n",
    "\n",
    "To see a complete listing of options, consult the following list:"
   ]
  },
  {
   "cell_type": "code",
   "execution_count": 1,
   "id": "ef0cfb56",
   "metadata": {},
   "outputs": [
    {
     "name": "stdout",
     "output_type": "stream",
     "text": [
      "Populating the interactive namespace from numpy and matplotlib\n"
     ]
    }
   ],
   "source": [
    "%pylab inline\n",
    "import ares\n",
    "import numpy as np\n",
    "import matplotlib.pyplot as pl"
   ]
  },
  {
   "cell_type": "code",
   "execution_count": 2,
   "id": "e9c0ee03",
   "metadata": {},
   "outputs": [
    {
     "data": {
      "text/plain": [
       "['ueda2003',\n",
       " 'mirocha2016',\n",
       " 'test_schaerer2002',\n",
       " 'song2016',\n",
       " 'whitaker2012',\n",
       " 'blue_tides',\n",
       " 'atek2015',\n",
       " 'mortlock2011',\n",
       " 'bouwens2017',\n",
       " 'sazonov2004',\n",
       " 'dunne2009',\n",
       " 'parsec',\n",
       " 'eldridge2009',\n",
       " 'furlanetto2017',\n",
       " 'mirocha2017',\n",
       " 'finkelstein2012',\n",
       " 'noeske2007',\n",
       " 'leitherer1999',\n",
       " 'alavi2016',\n",
       " 'haardt2012',\n",
       " 'tomczak2014',\n",
       " 'feulner2005',\n",
       " 'bpass_v1',\n",
       " 'aird2015',\n",
       " 'mirocha2018',\n",
       " 'marchesini2009_10',\n",
       " 'emma',\n",
       " 'vanderburg2010',\n",
       " 'mirocha2019',\n",
       " 'duncan2014',\n",
       " 'daddi2007',\n",
       " 'starburst99',\n",
       " 'park2019',\n",
       " 'oesch2014',\n",
       " 'eldridge2017',\n",
       " 'bowler2020',\n",
       " 'calzetti1994',\n",
       " 'oesch2013',\n",
       " 'sanders2015',\n",
       " 'kajisawa2010',\n",
       " 'lee2011',\n",
       " 'stefanon2017',\n",
       " 'stark2011',\n",
       " 'mcbride2009',\n",
       " 'madau2014',\n",
       " 'parsa2016',\n",
       " 'stark2010',\n",
       " 'oesch2016',\n",
       " 'morishita2018',\n",
       " 'perez2008',\n",
       " 'ferland1980',\n",
       " 'bpass_v2',\n",
       " 'bowman2018',\n",
       " 'sun2020',\n",
       " 'gruppioni2020',\n",
       " 'rojasruiz2020',\n",
       " 'stefanon2019',\n",
       " 'kusakabe2020',\n",
       " 'finkelstein2015',\n",
       " 'moustakas2013',\n",
       " 'bouwens2015',\n",
       " 'mirocha2020',\n",
       " 'reddy2009',\n",
       " 'mclure2013',\n",
       " 'robertson2015',\n",
       " 'mesinger2016',\n",
       " 'kroupa2001',\n",
       " 'karim2011',\n",
       " 'schneider',\n",
       " 'behroozi2013',\n",
       " 'schaerer2002',\n",
       " 'weisz2014',\n",
       " 'oesch2018',\n",
       " 'gonzalez2012',\n",
       " 'inoue2011',\n",
       " 'bouwens2014',\n",
       " 'ueda2014']"
      ]
     },
     "execution_count": 2,
     "metadata": {},
     "output_type": "execute_result"
    }
   ],
   "source": [
    "ares.util.lit_options"
   ]
  },
  {
   "cell_type": "markdown",
   "id": "03c4ff49",
   "metadata": {},
   "source": [
    "If any of these papers ring a bell, you can check out the contents in the following way:"
   ]
  },
  {
   "cell_type": "code",
   "execution_count": 3,
   "id": "86bde8a8",
   "metadata": {},
   "outputs": [],
   "source": [
    "litdata = ares.util.read_lit('mirocha2017')  # a self-serving example"
   ]
  },
  {
   "cell_type": "markdown",
   "id": "29d4f067",
   "metadata": {},
   "source": [
    "or, look directly at the source code, which lives in ``$ARES/input/litdata``. Hopefully the contents of these files are fairly self-explanatory! \n",
    "\n",
    "We'll cover a few options below that I've used often enough to warrant the development of special routines to interface with the data and/or to plot the results nicely."
   ]
  },
  {
   "cell_type": "markdown",
   "id": "a6184073",
   "metadata": {},
   "source": [
    "## The high-z galaxy luminosity function"
   ]
  },
  {
   "cell_type": "markdown",
   "id": "b0381cdf",
   "metadata": {},
   "source": [
    "Measured luminosity functions from the following works are included in *ARES*:\n",
    "\n",
    "* Bouwens et al. (2015)\n",
    "* Finkelstein et al. (2015)\n",
    "* Parsa et al. (2016)\n",
    "* van der Burg et al. (2010)\n",
    "* ... many more now"
   ]
  },
  {
   "cell_type": "markdown",
   "id": "3e6468ef",
   "metadata": {},
   "source": [
    "## Stellar population models"
   ]
  },
  {
   "cell_type": "markdown",
   "id": "eadae667",
   "metadata": {},
   "source": [
    "Currently, *ARES* can easily handle both the *starburst99* original dataset and the *BPASS* version 1.0 models (both of which are downloaded automatically). You can access the data via"
   ]
  },
  {
   "cell_type": "code",
   "execution_count": 4,
   "id": "5c0027b4",
   "metadata": {},
   "outputs": [],
   "source": [
    "s99 = ares.util.read_lit('leitherer1999')\n",
    "bpass = ares.util.read_lit('eldridge2009')"
   ]
  },
  {
   "cell_type": "markdown",
   "id": "3e0e0c7b",
   "metadata": {},
   "source": [
    "or, to create more useful objects for handling these data"
   ]
  },
  {
   "cell_type": "code",
   "execution_count": 5,
   "id": "c26233c9",
   "metadata": {},
   "outputs": [],
   "source": [
    "s99 = ares.sources.SynthesisModel(source_sed='leitherer1999')\n",
    "bpass = ares.sources.SynthesisModel(source_sed='eldridge2009')"
   ]
  },
  {
   "cell_type": "markdown",
   "id": "42e3c77e",
   "metadata": {},
   "source": [
    "The spectra for these models are stored in the exact same way to facilitate comparison and uniform use throughout *ARES*. The most important attributes are ``wavelengths`` (or ``energies`` or ``frequencies``), ``times``, and ``data`` (a 2-D array with shape (``wavelengths``, ``times``)). So, to compare the spectra for continuous star formation in the steady-state limit (*ARES* assumes continuous star formation by default), you could do:"
   ]
  },
  {
   "cell_type": "code",
   "execution_count": 6,
   "id": "63f4c2df",
   "metadata": {},
   "outputs": [
    {
     "name": "stdout",
     "output_type": "stream",
     "text": [
      "# Loaded fig8b.dat\n",
      "# Loaded $ARES/input/bpass_v1/SEDS/sed.bpass.constant.nocont.sin.z020\n"
     ]
    },
    {
     "data": {
      "text/plain": [
       "(1e+33, 1e+41)"
      ]
     },
     "execution_count": 6,
     "metadata": {},
     "output_type": "execute_result"
    },
    {
     "data": {
      "image/png": "[encoded data removed]",
      "text/plain": [
       "<Figure size 432x288 with 1 Axes>"
      ]
     },
     "metadata": {
      "needs_background": "light"
     },
     "output_type": "display_data"
    }
   ],
   "source": [
    "pl.loglog(s99.wavelengths, s99.data[:,-1])\n",
    "pl.loglog(bpass.wavelengths, bpass.data[:,-1])\n",
    "pl.ylim(1e33, 1e41)"
   ]
  },
  {
   "cell_type": "markdown",
   "id": "092cb425",
   "metadata": {},
   "source": [
    "The most common options for these models are: ``pop_Z``, ``pop_ssp``, ``pop_binaries``, ``pop_imf``, and ``pop_nebular``. See :doc:`params_populations` for a description of each of these parameters.\n",
    "\n"
   ]
  },
  {
   "cell_type": "markdown",
   "id": "2c6bb59e",
   "metadata": {},
   "source": [
    "## Parametric SEDs for galaxies and quasars"
   ]
  },
  {
   "cell_type": "markdown",
   "id": "eea60e34",
   "metadata": {},
   "source": [
    "So far, there is only one litdata module in this category: the multi-wavelength AGN template described in Sazonov et al. 2004."
   ]
  },
  {
   "cell_type": "markdown",
   "id": "11871951",
   "metadata": {},
   "source": [
    "## Reproducing Models from *ARES* Papers"
   ]
  },
  {
   "cell_type": "markdown",
   "id": "dee1ba07",
   "metadata": {},
   "source": [
    "If you're interested in reproducing a model from a paper exactly, you can either (1) contact me directly for the model of interest, or preferably (someday) download it from my website, or (2) re-compute it yourself. In the latter case, you just need to make sure you supply the required parameters. To facilitate this, I store \"parameter files\" (just dictionaries) in the litdata framework as well. You can access them like any other dataset from the literature, e.g., "
   ]
  },
  {
   "cell_type": "code",
   "execution_count": 7,
   "id": "a52e2268",
   "metadata": {},
   "outputs": [],
   "source": [
    "m17 = ares.util.read_lit('mirocha2017')"
   ]
  },
  {
   "cell_type": "markdown",
   "id": "cfeb474c",
   "metadata": {},
   "source": [
    "A few of the models we focused on most get their own dictionary, for example our reference double power law model for the star-formation efficiency is stored in the ``dpl`` variable:"
   ]
  },
  {
   "cell_type": "code",
   "execution_count": 8,
   "id": "4a8cc5be",
   "metadata": {},
   "outputs": [
    {
     "name": "stdout",
     "output_type": "stream",
     "text": [
      "# Loaded $ARES/input/inits/inits_planck_TTTEEE_lowl_lowE_best.txt.\n",
      "\n",
      "############################################################################\n",
      "##                       ARES Simulation: Overview                        ##\n",
      "############################################################################\n",
      "## ---------------------------------------------------------------------- ##\n",
      "## Source Populations                                                     ##\n",
      "## ---------------------------------------------------------------------- ##\n",
      "##           sfrd    sed  radio  O/IR  Lya    LW   LyC   Xray  RTE        ##\n",
      "## pop #0 : sfe-func  yes    -     -     x     x     x     -     x        ##\n",
      "## pop #1 : sfrd->0   yes    -     -     -     -     -     x     x        ##\n",
      "## ---------------------------------------------------------------------- ##\n",
      "## Notes                                                                  ##\n",
      "## ---------------------------------------------------------------------- ##\n",
      "## + pop_calib_lum != None, which means changes to pop_Z                  ##\n",
      "##   will *not* affect UVLF. Set pop_calib_lum=None to restore            ##\n",
      "##   \"normal\" behavior (see S3.4 in Mirocha et al. 2017).                 ##\n",
      "## ---------------------------------------------------------------------- ##\n",
      "## Physics                                                                ##\n",
      "## ---------------------------------------------------------------------- ##\n",
      "## cgm_initial_temperature        : 20000                                 ##\n",
      "## clumping_factor                : 3                                     ##\n",
      "## secondary_ionization           : 3                                     ##\n",
      "## approx_Salpha                  : 3                                     ##\n",
      "## include_He                     : True                                  ##\n",
      "## feedback_LW                    : False                                 ##\n",
      "############################################################################\n",
      "# Loaded $ARES/input/bpass_v1/SEDS/sed.bpass.constant.nocont.sin.z020\n",
      "# WARNING: revisit scalability wrt fesc.\n",
      "# Loaded $ARES/input/hmf/hmf_ST_planck_TTTEEE_lowl_lowE_best_logM_1400_4-18_z_1201_0-60.hdf5.\n",
      "# Loaded /Users/jordanmirocha/Dropbox/work/mods/ares/input/optical_depth/optical_depth_planck_TTTEEE_lowl_lowE_best_He_1000x2158_z_5-60_logE_2.3-4.5.hdf5.\n"
     ]
    },
    {
     "name": "stderr",
     "output_type": "stream",
     "text": [
      "gs-21cm: 100% |#############################################| Time:  0:00:03 \n"
     ]
    },
    {
     "data": {
      "text/plain": [
       "(<AxesSubplot:xlabel='$\\\\nu \\\\ (\\\\mathrm{MHz})$', ylabel='$\\\\delta T_b \\\\ (\\\\mathrm{mK})$'>,\n",
       " <AxesSubplot:label='3dcb6a54-8157-4a42-875a-4e57501414d7', xlabel='$z$'>)"
      ]
     },
     "execution_count": 8,
     "metadata": {},
     "output_type": "execute_result"
    },
    {
     "data": {
      "image/png": "[encoded data removed]",
      "text/plain": [
       "<Figure size 432x288 with 2 Axes>"
      ]
     },
     "metadata": {
      "needs_background": "light"
     },
     "output_type": "display_data"
    }
   ],
   "source": [
    "sim = ares.simulations.Global21cm(**m17.dpl)\n",
    "sim.run()\n",
    "sim.GlobalSignature()  # voila!"
   ]
  },
  {
   "cell_type": "markdown",
   "id": "837bd2db",
   "metadata": {},
   "source": [
    "Hopefully this results *exactly* in the solid black curve from Figure 2 of `Mirocha, Furlanetto, & Sun (2017) <http://adsabs.harvard.edu/abs/2017MNRAS.464.1365M>`_, provided you're using *ARES* version 0.2. If it doesn't, please contact me.\n",
    "\n",
    "**NOTE:** If using a newer version of the code, this may shift slightly due to changes in the default cosmological parameters and halo mass function. If you pull a recent version and the result is significantly different, please get in touch with me.\n",
    "\n",
    "Alternatively, you can use the ``ParameterBundle`` framework, which also taps into our collection of data from the literature. To access the set of parameters for the \"dpl\" model, you simply do:"
   ]
  },
  {
   "cell_type": "code",
   "execution_count": 9,
   "id": "16d2b83c",
   "metadata": {},
   "outputs": [],
   "source": [
    "pars = ares.util.ParameterBundle('mirocha2017:dpl')"
   ]
  },
  {
   "cell_type": "markdown",
   "id": "50b64998",
   "metadata": {},
   "source": [
    "This tells *ARES* to retrieve the ``dpl`` variable within the ``mirocha2017`` module. See :doc:`param_bundles` for more on these objects."
   ]
  },
  {
   "cell_type": "markdown",
   "id": "4bdba976",
   "metadata": {},
   "source": [
    "### [Mirocha, Furlanetto, & Sun (2017)](http://adsabs.harvard.edu/abs/2017MNRAS.464.1365M) (``mirocha2017``)"
   ]
  },
  {
   "cell_type": "markdown",
   "id": "877ad4fc",
   "metadata": {},
   "source": [
    "This model has a few options: ``dpl``, and the extensions ``floor`` and ``steep``, as explored in the paper. \n",
    "\n",
    "Non-standard pre-requisites:\n",
    "    * High resolution optical depth table for X-ray background. To generate one for yourself, navigate to ``$ARES/input/optical_depth`` and open the ``generate_optical_depth_tables.py`` file. Between lines 35 and 45 there are a block of parameters that set the resolution of the table. Make sure that ``helium=1``, ``zi=50``, ``zf=5``, and ``Nz=[1e3]``. It should only take a few minutes to generate this table.\n",
    "    \n",
    "The following parameters are uncertain and typically treated as free parameters within the ranges denoted by brackets (not all of which are hard limits):\n",
    "\n",
    "    * ``pop_Z{0}``, :math:`[0.001, 0.04]`\n",
    "    * ``pop_Tmin{0}``, :math:`[300, \\sim \\mathrm{few} \\times 10^5]`  (``pop_Tmin{1}`` is tied to this value by default).\n",
    "    * ``pop_fesc{0}``, in general can lie in range :math:`[0, 1]`, but for consistency with observational constraints on :math:`\\tau_e` (from, e.g., *Planck*), it's probably best to limit values to :math:`\\lesssim 0.2`.\n",
    "    * ``pop_fesc_LW{0}``, :math:`[0, 1]`\n",
    "    * ``pop_rad_yield{1}``, :math:`[10^{38}, 10^{42}]` :math:`2.6 \\times 10^{39}` by default\n",
    "    * ``pop_logN{1}``, :math:`[18, 23]`, :math:`-\\infty` by default.\n",
    "\n",
    "**NOTE:** Changes in the metallicity (``pop_Z{0}``) in general affect the luminosity function (LF). However, by default, the normalization of the star formation efficiency will automatically be adjusted to guarantee that the LF does *not* change upon changes to ``pop_Z{0}``. Set the ``pop_calib_lum{0}`` parameter to ``None`` to remove this behavior.\n",
    "\n",
    "To re-make the right-hand panel of Figure 1 from the paper, you could do something like:"
   ]
  },
  {
   "cell_type": "code",
   "execution_count": 10,
   "id": "adf032c8",
   "metadata": {},
   "outputs": [
    {
     "name": "stdout",
     "output_type": "stream",
     "text": [
      "# WARNING: revisit scalability wrt fesc.\n",
      "# WARNING: revisit scalability wrt fesc.\n",
      "# WARNING: revisit scalability wrt fesc.\n"
     ]
    },
    {
     "data": {
      "image/png": "[encoded data removed]",
      "text/plain": [
       "<Figure size 432x288 with 4 Axes>"
      ]
     },
     "metadata": {
      "needs_background": "light"
     },
     "output_type": "display_data"
    }
   ],
   "source": [
    "dpl = ares.util.ParameterBundle('mirocha2017:dpl')\n",
    "    \n",
    "ax = None\n",
    "for model in ['floor', 'dpl', 'steep']:\n",
    "    pars = dpl + ares.util.ParameterBundle('mirocha2017:%s' % model)\n",
    "    sim = ares.simulations.Global21cm(verbose=False, progress_bar=False, **pars)\n",
    "    sim.run()\n",
    "    ax, zax = sim.GlobalSignature(ax=ax)"
   ]
  },
  {
   "cell_type": "markdown",
   "id": "88cc3ee6",
   "metadata": {},
   "source": [
    "For more thorough parameter space explorations, you might want to consider using the ``ModelGrid`` (see [the example](example_grid) or ``ModelSample`` (:doc:`example_mc_sampling`) machinery. If you'd like to do some forecasting or fitting with these models, check out :doc:`example_mcmc_gs` and :doc:`example_mcmc_lf`.\n",
    "\n",
    "**NOTE:** Notice that the ``floor`` and ``steep`` options are defined *relative* to the ``dpl`` model, i.e., they only contain the parameters that are different from the ``dpl`` model, which is why we updated the parameter dictionary rather than creating a new one just with the ``steep`` or ``floor`` parameters.\n"
   ]
  },
  {
   "cell_type": "markdown",
   "id": "d29e0d30",
   "metadata": {},
   "source": [
    "### [Furlanetto et al. (2017)](https://arxiv.org/abs/1611.01169) (``furlanetto2017``)"
   ]
  },
  {
   "cell_type": "markdown",
   "id": "e48d30c7",
   "metadata": {},
   "source": [
    "The main options in this model are whether to use momentum-driven or energy-driven feedback, what are accessible separately via, e.g., "
   ]
  },
  {
   "cell_type": "code",
   "execution_count": 11,
   "id": "8808211f",
   "metadata": {},
   "outputs": [],
   "source": [
    "E = ares.util.ParameterBundle('furlanetto2017:energy')\n",
    "p = ares.util.ParameterBundle('furlanetto2017:momentum')\n",
    "fshock = ares.util.ParameterBundle('furlanetto2017:fshock')"
   ]
  },
  {
   "cell_type": "markdown",
   "id": "59576548",
   "metadata": {},
   "source": [
    "The only difference is the assumed slope of the star formation efficiency in low-mass halos, which is defined in the parameter ``'pq_func_par2[0]'``, i.e., the third parameter (``par2``) of the first parameterized quantity (``[0]``), in addition to a power-law index that describes the rate of redshift evolution, ``pq_func_par2[1]``.\n",
    "\n",
    "To do a quick comparison, you could simply do: "
   ]
  },
  {
   "cell_type": "code",
   "execution_count": 12,
   "id": "87c3ab7e",
   "metadata": {},
   "outputs": [
    {
     "data": {
      "text/plain": [
       "Text(0, 0.5, '$f_{\\\\ast}$')"
      ]
     },
     "execution_count": 12,
     "metadata": {},
     "output_type": "execute_result"
    },
    {
     "data": {
      "image/png": "[encoded data removed]",
      "text/plain": [
       "<Figure size 432x288 with 1 Axes>"
      ]
     },
     "metadata": {
      "needs_background": "light"
     },
     "output_type": "display_data"
    }
   ],
   "source": [
    "import ares\n",
    "    \n",
    "ls = ['-', '--']\n",
    "for i, model in enumerate([E, p]):\n",
    "    pars = model + fshock\n",
    "    pop = ares.populations.GalaxyPopulation(**pars)\n",
    "    M = np.logspace(7, 13)\n",
    "    pl.loglog(M, pop.fstar(z=6, Mh=M), ls=ls[i])\n",
    "    \n",
    "pl.xlabel(r'$M_h / M_{\\odot}$')\n",
    "pl.ylabel(r'$f_{\\ast}$')"
   ]
  },
  {
   "cell_type": "markdown",
   "id": "356a4b00",
   "metadata": {},
   "source": [
    "### Creating your own"
   ]
  },
  {
   "cell_type": "markdown",
   "id": "b46ea127",
   "metadata": {},
   "source": [
    "As with parameter bundles, you can write your own litdata modules without modifying the *ARES* source code. Just create a new ``.py`` file and stick it in one of the following places (searched in this order!):\n",
    "\n",
    "* Your current working directory.\n",
    "* ``$HOME/.ares``\n",
    "* ``$ARES/input/litdata``\n",
    "\n",
    "For example, if I created the following file (``junk_lf.py``; which you'll notice resembles the other LF litdata modules) in my current directory:"
   ]
  },
  {
   "cell_type": "code",
   "execution_count": 13,
   "id": "bd31aba5",
   "metadata": {},
   "outputs": [],
   "source": [
    "redshifts = [4, 5]\n",
    "wavelength = 1600.\n",
    "units = {'phi': 1}  # i.e., not abundances not recorded as log10 values\n",
    "\n",
    "data = {}\n",
    "data['lf'] = \\\n",
    "{\n",
    " 4: {\n",
    "     'M': [-23, -22, -21, -20],\n",
    "     'phi': list(np.random.rand(4) * 1e-4),\n",
    "     'err': [tuple(np.random.rand(2) * 1e-7) for i in range(4)]\n",
    "    },\n",
    " 5: {\n",
    "     'M': [-23, -22, -21, -20],\n",
    "     'phi': list(np.random.rand(4) * 1e-4),\n",
    "     'err': [tuple(np.random.rand(2) * 1e-7) for i in range(4)],\n",
    "    }\n",
    "}"
   ]
  },
  {
   "cell_type": "markdown",
   "id": "f3894008",
   "metadata": {},
   "source": [
    "then the built-in plotting routines will automatically find it. For example, you could compare this completely made-up LF with the rest via the commands `obslf = ares.analysis.GalaxyPopulation(); ax = obslf.Plot(z=4, sources='junk_lf')`."
   ]
  }
 ],
 "metadata": {
  "kernelspec": {
   "display_name": "Python 3 (ipykernel)",
   "language": "python",
   "name": "python3"
  },
  "language_info": {
   "codemirror_mode": {
    "name": "ipython",
    "version": 3
   },
   "file_extension": ".py",
   "mimetype": "text/x-python",
   "name": "python",
   "nbconvert_exporter": "python",
   "pygments_lexer": "ipython3",
   "version": "3.7.6"
  }
 },
 "nbformat": 4,
 "nbformat_minor": 5
}
