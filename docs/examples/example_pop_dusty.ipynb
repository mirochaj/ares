{
 "cells": [
  {
   "cell_type": "markdown",
   "id": "880831e6",
   "metadata": {},
   "source": [
    "# Self-Consistent Dust Reddening"
   ]
  },
  {
   "cell_type": "code",
   "execution_count": 1,
   "id": "b5f027d1",
   "metadata": {},
   "outputs": [],
   "source": [
    "%matplotlib inline\n",
    "\n",
    "import os\n",
    "import ares\n",
    "import numpy as np\n",
    "import matplotlib.pyplot as plt"
   ]
  },
  {
   "cell_type": "markdown",
   "id": "d289d484",
   "metadata": {},
   "source": [
    "In [Mirocha, Mason, & Stark (2020)](https://ui.adsabs.harvard.edu/abs/2020arXiv200507208M/abstract), we describe a simple extension to the now-standard galaxy model in ARES that generates ultraviolet colours self-consistently, rather than invoking IRX-$\\beta$ relations to perform a dust correction. Here, we describe how to work with these new models."
   ]
  },
  {
   "cell_type": "markdown",
   "id": "af78688e",
   "metadata": {},
   "source": [
    "### Preliminaries\n",
    "\n",
    "Before getting started, two lookup tables are required that don't ship by default with ARES (via the ``ares download all`` command; [see ARES installation](../install.html)):\n",
    "\n",
    "- A new halo mass function lookup table that employs the Tinker et al. 2010 results, rather than Sheth-Tormen (used in most earlier work with ARES).\n",
    "- A lookup table of halo mass assembly histories.\n",
    "\n",
    "This should only take a few minutes even in serial. We'll access some convenience routines in `ares.util.cli`. First, the new HMF tables:"
   ]
  },
  {
   "cell_type": "code",
   "execution_count": 2,
   "id": "e21310b8",
   "metadata": {},
   "outputs": [
    {
     "name": "stdout",
     "output_type": "stream",
     "text": [
      "\n",
      "############################################################################\n",
      "##                           Halo Mass function                           ##\n",
      "############################################################################\n",
      "## ---------------------------------------------------------------------- ##\n",
      "## Underlying Model                                                       ##\n",
      "## ---------------------------------------------------------------------- ##\n",
      "## fitting function       : Tinker10                                      ##\n",
      "## ---------------------------------------------------------------------- ##\n",
      "## Table Limits & Resolution                                              ##\n",
      "## ---------------------------------------------------------------------- ##\n",
      "## tmin (Myr)            : 30                                             ##\n",
      "## tmax (Myr)            : 2000                                           ##\n",
      "## dt   (Myr)            : 1                                              ##\n",
      "## Mmin (Msun)           : 1.000000e+04                                   ##\n",
      "## Mmax (Msun)           : 1.000000e+18                                   ##\n",
      "## dlogM                 : 0.01                                           ##\n",
      "############################################################################\n",
      "File ./halo_mf_Tinker10_user_paul_logM_1400_4-18_t_1971_30-2000.hdf5 exists! Set clobber=True or remove manually.\n"
     ]
    }
   ],
   "source": [
    "kwargs = \\\n",
    "{\n",
    " \"halo_mf\": 'Tinker10',\n",
    "\n",
    " \"halo_tmin\": 30,\n",
    " \"halo_tmax\": 2e3,\n",
    " \"halo_dt\": 1,\n",
    "\n",
    " \"cosmology_id\": 'paul',\n",
    " \"cosmology_name\": 'user',\n",
    " \"sigma_8\": 0.8159,\n",
    " 'primordial_index': 0.9652,\n",
    " 'omega_m_0': 0.315579,\n",
    " 'omega_b_0': 0.0491,\n",
    " 'hubble_0': 0.6726,\n",
    " 'omega_l_0': 1. - 0.315579,\n",
    "}\n",
    "\n",
    "HOME = os.environ.get('HOME')\n",
    "\n",
    "from ares.util import cli\n",
    "\n",
    "cli.generate_hmf_tables(f'{HOME}/.ares/halos', **kwargs)"
   ]
  },
  {
   "cell_type": "markdown",
   "id": "8ff3f26d",
   "metadata": {},
   "source": [
    "The new HMF table will use constant 1 Myr time-steps, rather than the default redshift steps, and employ a cosmology designed to remain consistent with another project (led by a collaborator whose name you can probably guess)!\n",
    "\n",
    "Once you've done this, you should have a new file, ``halo_mf_Tinker10_user_paul_logM_1400_4-18_t_1971_30-2000.hdf5``, sitting inside ``$HOME/.ares/halos``. Now, we're almost done. Simply execute:"
   ]
  },
  {
   "cell_type": "code",
   "execution_count": 3,
   "id": "9edb1486",
   "metadata": {},
   "outputs": [
    {
     "name": "stdout",
     "output_type": "stream",
     "text": [
      "Read cosmology from halo_mf_Tinker10_user_paul_logM_1400_4-18_t_1971_30-2000.hdf5\n",
      "# File halo_hist_Tinker10_user_paul_logM_1400_4-18_t_1971_30-2000_xM_10_0.10.hdf5 exists. Exiting.\n"
     ]
    }
   ],
   "source": [
    "cli.generate_halo_histories(f'{HOME}/.ares/halos', 'halo_mf_Tinker10_user_paul_logM_1400_4-18_t_1971_30-2000.hdf5')"
   ]
  },
  {
   "cell_type": "markdown",
   "id": "bd29946e",
   "metadata": {},
   "source": [
    "The additional resulting file, ``halo_hist_Tinker10_user_paul_logM_1400_4-18_t_1971_30-2000_xM_10_0.10.hdf5``, will be found automatically in subsequent calculations."
   ]
  },
  {
   "cell_type": "markdown",
   "id": "a9f2c318",
   "metadata": {},
   "source": [
    "### Example\n",
    "\n",
    "\n",
    "With the required lookup tables now in hand, we can get to it:"
   ]
  },
  {
   "cell_type": "code",
   "execution_count": 4,
   "id": "78010b4c",
   "metadata": {},
   "outputs": [],
   "source": [
    "pars = ares.util.ParameterBundle('mirocha2020:univ')"
   ]
  },
  {
   "cell_type": "markdown",
   "id": "032524d1",
   "metadata": {},
   "source": [
    "Now, we create a ``GalaxyPopulation`` object,"
   ]
  },
  {
   "cell_type": "code",
   "execution_count": 5,
   "id": "8491fa1c",
   "metadata": {},
   "outputs": [],
   "source": [
    "pop = ares.populations.GalaxyPopulation(**pars)"
   ]
  },
  {
   "cell_type": "markdown",
   "id": "31483316",
   "metadata": {},
   "source": [
    "which is an instance of the ``GalaxyEnsemble`` class, rather than the ``GalaxyCohort`` class, the latter of which is described in [this example](example_pop_galaxy). This offers a more general approach, including more complex star formation histories and proper treatment of spectral synthesis.\n",
    "\n",
    "We can plot the UVLF in the usual way,"
   ]
  },
  {
   "cell_type": "code",
   "execution_count": 7,
   "id": "9cd56bc2",
   "metadata": {},
   "outputs": [
    {
     "name": "stdout",
     "output_type": "stream",
     "text": [
      "# Loaded $ARES/halos/halo_hist_Tinker10_user_paul_logM_1400_4-18_t_1971_30-2000_xM_10_0.10.hdf5.\n",
      "# Loaded $ARES/halos/halo_mf_Tinker10_user_paul_logM_1400_4-18_t_1971_30-2000.hdf5.\n"
     ]
    },
    {
     "ename": "ValueError",
     "evalue": "Need to fix dust reddening! synth.get_lum doing it, should not also do with get_transmission.",
     "output_type": "error",
     "traceback": [
      "\u001b[0;31m---------------------------------------------------------------------------\u001b[0m",
      "\u001b[0;31mValueError\u001b[0m                                Traceback (most recent call last)",
      "Cell \u001b[0;32mIn [7], line 7\u001b[0m\n\u001b[1;32m      5\u001b[0m \u001b[38;5;66;03m# Now, the predicted/calibrated UVLF\u001b[39;00m\n\u001b[1;32m      6\u001b[0m mags \u001b[38;5;241m=\u001b[39m np\u001b[38;5;241m.\u001b[39marange(\u001b[38;5;241m-\u001b[39m\u001b[38;5;241m30\u001b[39m, \u001b[38;5;241m10\u001b[39m, \u001b[38;5;241m0.5\u001b[39m)\n\u001b[0;32m----> 7\u001b[0m _mags, phi \u001b[38;5;241m=\u001b[39m pop\u001b[38;5;241m.\u001b[39mget_lf(\u001b[38;5;241m6\u001b[39m, mags, x\u001b[38;5;241m=\u001b[39m\u001b[38;5;241m1600\u001b[39m)\n\u001b[1;32m      9\u001b[0m ax\u001b[38;5;241m.\u001b[39msemilogy(mags, phi)\n",
      "File \u001b[0;32m~/Work/mods/ares/ares/populations/GalaxyEnsemble.py:2863\u001b[0m, in \u001b[0;36mGalaxyEnsemble.get_lf\u001b[0;34m(self, z, bins, use_mags, x, units, window, band, cam, filters, dlam, method, load, presets, absolute, total_IR)\u001b[0m\n\u001b[1;32m   2859\u001b[0m weights \u001b[38;5;241m=\u001b[39m raw[\u001b[38;5;124m'\u001b[39m\u001b[38;5;124mnh\u001b[39m\u001b[38;5;124m'\u001b[39m][:,izobs] \u001b[38;5;66;03m# used to be izobs+1, I belive in error.\u001b[39;00m\n\u001b[1;32m   2861\u001b[0m \u001b[38;5;28;01mif\u001b[39;00m use_mags:\n\u001b[1;32m   2862\u001b[0m     \u001b[38;5;66;03m#_MAB = self.magsys.L_to_MAB(L)\u001b[39;00m\n\u001b[0;32m-> 2863\u001b[0m     filt, mags \u001b[38;5;241m=\u001b[39m \u001b[38;5;28;43mself\u001b[39;49m\u001b[38;5;241;43m.\u001b[39;49m\u001b[43mget_mags\u001b[49m\u001b[43m(\u001b[49m\u001b[43mz\u001b[49m\u001b[43m,\u001b[49m\u001b[43m \u001b[49m\u001b[43mx\u001b[49m\u001b[38;5;241;43m=\u001b[39;49m\u001b[43mx\u001b[49m\u001b[43m,\u001b[49m\u001b[43m \u001b[49m\u001b[43mcam\u001b[49m\u001b[38;5;241;43m=\u001b[39;49m\u001b[43mcam\u001b[49m\u001b[43m,\u001b[49m\u001b[43m \u001b[49m\u001b[43munits\u001b[49m\u001b[38;5;241;43m=\u001b[39;49m\u001b[43munits\u001b[49m\u001b[43m,\u001b[49m\n\u001b[1;32m   2864\u001b[0m \u001b[43m        \u001b[49m\u001b[43mfilters\u001b[49m\u001b[38;5;241;43m=\u001b[39;49m\u001b[43mfilters\u001b[49m\u001b[43m,\u001b[49m\u001b[43m \u001b[49m\u001b[43mpresets\u001b[49m\u001b[38;5;241;43m=\u001b[39;49m\u001b[43mpresets\u001b[49m\u001b[43m,\u001b[49m\u001b[43m \u001b[49m\u001b[43mdlam\u001b[49m\u001b[38;5;241;43m=\u001b[39;49m\u001b[43mdlam\u001b[49m\u001b[43m,\u001b[49m\u001b[43m \u001b[49m\u001b[43mwindow\u001b[49m\u001b[38;5;241;43m=\u001b[39;49m\u001b[43mwindow\u001b[49m\u001b[43m,\u001b[49m\n\u001b[1;32m   2865\u001b[0m \u001b[43m        \u001b[49m\u001b[43mmethod\u001b[49m\u001b[38;5;241;43m=\u001b[39;49m\u001b[43mmethod\u001b[49m\u001b[43m,\u001b[49m\u001b[43m \u001b[49m\u001b[43mabsolute\u001b[49m\u001b[38;5;241;43m=\u001b[39;49m\u001b[43mabsolute\u001b[49m\u001b[43m,\u001b[49m\u001b[43m \u001b[49m\u001b[43mload\u001b[49m\u001b[38;5;241;43m=\u001b[39;49m\u001b[43mload\u001b[49m\u001b[43m)\u001b[49m\n\u001b[1;32m   2867\u001b[0m     \u001b[38;5;66;03m#z, MUV=None, wave=1600., cam=None, filters=None,\u001b[39;00m\n\u001b[1;32m   2868\u001b[0m     \u001b[38;5;66;03m#    filter_set=None, dlam=20., method='closest', idnum=None, window=1,\u001b[39;00m\n\u001b[1;32m   2869\u001b[0m     \u001b[38;5;66;03m#    load=True, presets=None, absolute=True\u001b[39;00m\n\u001b[1;32m   2871\u001b[0m     \u001b[38;5;28;01mif\u001b[39;00m mags\u001b[38;5;241m.\u001b[39mshape[\u001b[38;5;241m0\u001b[39m] \u001b[38;5;241m==\u001b[39m \u001b[38;5;241m1\u001b[39m:\n",
      "File \u001b[0;32m~/Work/mods/ares/ares/populations/GalaxyEnsemble.py:2150\u001b[0m, in \u001b[0;36mGalaxyEnsemble.get_mags\u001b[0;34m(self, z, MUV, x, units, cam, filters, dlam, method, idnum, window, load, presets, absolute, use_pbar, restricted_range)\u001b[0m\n\u001b[1;32m   2147\u001b[0m     M, mags, xout \u001b[38;5;241m=\u001b[39m cached_result\n\u001b[1;32m   2148\u001b[0m \u001b[38;5;28;01melif\u001b[39;00m (\u001b[38;5;129;01mnot\u001b[39;00m use_filters):\n\u001b[1;32m   2149\u001b[0m     \u001b[38;5;66;03m# Take monochromatic (or within some window) MUV\u001b[39;00m\n\u001b[0;32m-> 2150\u001b[0m     L \u001b[38;5;241m=\u001b[39m \u001b[38;5;28;43mself\u001b[39;49m\u001b[38;5;241;43m.\u001b[39;49m\u001b[43mget_lum\u001b[49m\u001b[43m(\u001b[49m\u001b[43mz\u001b[49m\u001b[43m,\u001b[49m\u001b[43m \u001b[49m\u001b[43mx\u001b[49m\u001b[38;5;241;43m=\u001b[39;49m\u001b[43mx\u001b[49m\u001b[43m,\u001b[49m\u001b[43m \u001b[49m\u001b[43munits\u001b[49m\u001b[38;5;241;43m=\u001b[39;49m\u001b[43munits\u001b[49m\u001b[43m,\u001b[49m\u001b[43m \u001b[49m\u001b[43mwindow\u001b[49m\u001b[38;5;241;43m=\u001b[39;49m\u001b[43mwindow\u001b[49m\u001b[43m,\u001b[49m\u001b[43m \u001b[49m\u001b[43mload\u001b[49m\u001b[38;5;241;43m=\u001b[39;49m\u001b[43mload\u001b[49m\u001b[43m)\u001b[49m\n\u001b[1;32m   2151\u001b[0m     mags \u001b[38;5;241m=\u001b[39m \u001b[38;5;28mself\u001b[39m\u001b[38;5;241m.\u001b[39mmagsys\u001b[38;5;241m.\u001b[39mL_to_MAB(L)\n\u001b[1;32m   2152\u001b[0m     xout \u001b[38;5;241m=\u001b[39m x\n",
      "File \u001b[0;32m~/Work/mods/ares/ares/populations/GalaxyEnsemble.py:2473\u001b[0m, in \u001b[0;36mGalaxyEnsemble.get_lum\u001b[0;34m(self, z, x, band, units, idnum, window, load, units_out, include_dust_transmission, include_igm_transmission)\u001b[0m\n\u001b[1;32m   2465\u001b[0m \u001b[38;5;66;03m#if load and (cached_result is not None):\u001b[39;00m\n\u001b[1;32m   2466\u001b[0m \u001b[38;5;66;03m#    return cached_result\u001b[39;00m\n\u001b[1;32m   2467\u001b[0m \n\u001b[1;32m   2468\u001b[0m \u001b[38;5;66;03m#if band is not None:\u001b[39;00m\n\u001b[1;32m   2469\u001b[0m \u001b[38;5;66;03m#    assert self.pf['pop_dust_yield'] in [0, None], \\\u001b[39;00m\n\u001b[1;32m   2470\u001b[0m \u001b[38;5;66;03m#        \"Going to get weird answers for L(band != None) if dust is ON.\"\u001b[39;00m\n\u001b[1;32m   2472\u001b[0m \u001b[38;5;28;01mif\u001b[39;00m include_dust_transmission:\n\u001b[0;32m-> 2473\u001b[0m     \u001b[38;5;28;01mraise\u001b[39;00m \u001b[38;5;167;01mValueError\u001b[39;00m(\u001b[38;5;124m\"\u001b[39m\u001b[38;5;124mNeed to fix dust reddening! synth.get_lum doing it, should not also do with get_transmission.\u001b[39m\u001b[38;5;124m\"\u001b[39m)\n\u001b[1;32m   2475\u001b[0m raw \u001b[38;5;241m=\u001b[39m \u001b[38;5;28mself\u001b[39m\u001b[38;5;241m.\u001b[39mhistories\n\u001b[1;32m   2476\u001b[0m \u001b[38;5;28;01mif\u001b[39;00m (x \u001b[38;5;129;01mis\u001b[39;00m \u001b[38;5;129;01mnot\u001b[39;00m \u001b[38;5;28;01mNone\u001b[39;00m) \u001b[38;5;129;01mand\u001b[39;00m (x \u001b[38;5;241m>\u001b[39m \u001b[38;5;28mself\u001b[39m\u001b[38;5;241m.\u001b[39msrc\u001b[38;5;241m.\u001b[39mtab_waves_c\u001b[38;5;241m.\u001b[39mmax()):\n",
      "\u001b[0;31mValueError\u001b[0m: Need to fix dust reddening! synth.get_lum doing it, should not also do with get_transmission."
     ]
    },
    {
     "data": {
      "image/png": "[encoded data removed]",
      "text/plain": [
       "<Figure size 640x480 with 1 Axes>"
      ]
     },
     "metadata": {},
     "output_type": "display_data"
    }
   ],
   "source": [
    "# First, some data\n",
    "obslf = ares.analysis.GalaxyPopulation()\n",
    "ax = obslf.PlotLF(z=6, round_z=0.2)\n",
    "\n",
    "# Now, the predicted/calibrated UVLF\n",
    "mags = np.arange(-30, 10, 0.5)\n",
    "_mags, phi = pop.get_lf(6, mags, x=1600)\n",
    "\n",
    "ax.semilogy(mags, phi)"
   ]
  },
  {
   "cell_type": "markdown",
   "id": "113f0bb2",
   "metadata": {},
   "source": [
    "The main difference between these models and the simpler models (from, e.g., the ``mirocha2017`` parameter bundle) is access to UV colours. To access them, you can do, e.g., "
   ]
  },
  {
   "cell_type": "code",
   "execution_count": null,
   "id": "fdf5f4b1",
   "metadata": {},
   "outputs": [],
   "source": [
    "filt, mags = pop.get_mags(6., presets='hst', wave=1600.)\n",
    "beta = pop.get_beta(6., presets='hst')\n",
    "\n",
    "# `mags` will have the shape (len(filt), number of halos). \n",
    "# For z=6 galaxies, the bluest filter here F098M corresponds to ~1400A rest-frame\n",
    "plt.scatter(mags[0], beta, alpha=0.1, color='b', edgecolors='none')\n",
    "\n",
    "# For a comparison, go and grab Bouwens et al. 2014's constraints on Beta and plot\n",
    "b14 = ares.data.read('bouwens2014')\n",
    "plt.errorbar(b14.data['beta'][6]['M'], b14.data['beta'][6]['beta'], \n",
    "    yerr=b14.data['beta'][6]['err'], fmt='o')"
   ]
  },
  {
   "cell_type": "markdown",
   "id": "d3994a68",
   "metadata": {},
   "source": [
    "This can take a few seconds, depending on the value of `pop_thin_hist`, as modeling UV colours requires synthesizing a reasonbly high resolution ($\\Delta \\lambda = 20 \\unicode{x212B}$ by default) spectrum for each galaxy in the model so that there are multiple points within photometric windows. By default, `pop_thin_hist` is only 10 -- increasing this number will increase the number of galaxies modeled in each mass bin, and so smooth out the model's predictions.\n",
    "\n",
    "This example computes the UV slope $\\beta$ using the *Hubble* filters appropriate for the input redshift (see Table A1 in the paper).\n",
    "\n",
    "**NOTE:** Other ``presets`` include ``'jwst'``, ``'jwst-w'``, ``'jwst-m'``, and ``'calzetti1994'``."
   ]
  },
  {
   "cell_type": "markdown",
   "id": "ac22159d",
   "metadata": {},
   "source": [
    "You can bin points in the $M_{\\text{UV}}-\\beta$ plane, if you prefer it, via the ``return_binned`` keyword argument,"
   ]
  },
  {
   "cell_type": "code",
   "execution_count": null,
   "id": "50d956c7",
   "metadata": {},
   "outputs": [],
   "source": [
    "# Plot scatter in each MUV bin as errorbars\n",
    "magbins = np.arange(-25, -10, 0.5) # bin centers\n",
    "beta, beta_s = pop.get_beta(6., presets='hst', Mbins=magbins, return_binned=True,\n",
    "    return_scatter=True)\n",
    "\n",
    "plt.plot(magbins, beta, color='b')\n",
    "\n",
    "# Plot some data for reference again.\n",
    "plt.errorbar(b14.data['beta'][6]['M'], b14.data['beta'][6]['beta'], \n",
    "    yerr=b14.data['beta'][6]['err'], fmt='o')"
   ]
  },
  {
   "cell_type": "markdown",
   "id": "836ad1ff",
   "metadata": {},
   "source": [
    "**NOTE:** Computing colors from fits in the [Calzetti et al. 1994](https://ui.adsabs.harvard.edu/abs/1994ApJ...429..582C/abstract>) windows requires higher spectral resolution, given that these windows are each only $\\Delta \\lambda \\sim 10 \\unicode{x212B}$ wide. Adjust the ``dlam`` keyword argument to increase the wavelength-sampling used prior to photometric UV slope estimation."
   ]
  },
  {
   "cell_type": "markdown",
   "id": "bf550379",
   "metadata": {},
   "source": [
    "Lastly, to extract the \"raw\" galaxy population properties, like SFR, stellar mass, etc., you can use the ``get_field`` method, e.g.,"
   ]
  },
  {
   "cell_type": "code",
   "execution_count": null,
   "id": "79035a8f",
   "metadata": {},
   "outputs": [],
   "source": [
    "Ms = pop.get_field(6., 'Ms') # stellar mass\n",
    "Md = pop.get_field(6., 'Md') # dust mass\n",
    "Sd = pop.get_field(6., 'Sd') # dust surface density\n",
    "# etc."
   ]
  },
  {
   "cell_type": "markdown",
   "id": "6f835f27",
   "metadata": {},
   "source": [
    "To see what's available, check out"
   ]
  },
  {
   "cell_type": "code",
   "execution_count": null,
   "id": "9e9a6612",
   "metadata": {},
   "outputs": [],
   "source": [
    "pop.histories.keys()"
   ]
  },
  {
   "cell_type": "markdown",
   "id": "410f94d2",
   "metadata": {},
   "source": [
    "From these simple commands, most plots and analyses from the paper can be reproduced in relatively short order."
   ]
  },
  {
   "cell_type": "markdown",
   "id": "f3bd5ac7",
   "metadata": {},
   "source": [
    "### Notes on performance\n",
    "\n",
    "The compute time for these models is determined largely by three factors:\n",
    "\n",
    "* The number of halos (really halo bins) we evolve forward in time. The default ``mirocha2020:univ`` models use $\\Delta \\log_{10} M_h = 0.01$ mass-bins, each with 10 halos (``pop_thin_hist=10``). For a larger sample, e.g., when lots of scatter is being employed, larger values of ``pop_thin_hist`` may be warranted.\n",
    "* The number of observed redshifts at which $\\beta$ is synthesize, since new spectra must be generated.\n",
    "* The number of wavelengths used to sample the intrinsic UV spectrum of galaxies. When computing $\\beta$ via photometry (Hubble or JWST), $\\Delta \\lambda = 20 \\unicode{x212B}$ will generally suffice. \n",
    "\n",
    "For the models in [Mirocha, Mason, & Stark (2020)](https://ui.adsabs.harvard.edu/abs/2020arXiv200507208M/abstract>), with $\\Delta \\log_{10} M_h = 0.01$ (``hmf_logM=0.01``), ``pop_thin_hist=10``, calibrating at two redshifts for $\\beta$ (4 and 6), with $\\Delta \\lambda = 20 \\unicode{x212B}$, each model takes $\\sim 10-20$ seconds, depending on your machine.\n",
    "\n",
    "**NOTE:** Generating the UVLF is essentially free compared to computing $\\beta$.\n",
    "\n",
    "For more information on what's happening under the hood, e.g., with regards to spectral synthesis and noisy star-formation histories, see [Example: spectral synthesis](../example_pop_sps.html).\n"
   ]
  }
 ],
 "metadata": {
  "kernelspec": {
   "display_name": "Python 3 (ipykernel)",
   "language": "python",
   "name": "python3"
  },
  "language_info": {
   "codemirror_mode": {
    "name": "ipython",
    "version": 3
   },
   "file_extension": ".py",
   "mimetype": "text/x-python",
   "name": "python",
   "nbconvert_exporter": "python",
   "pygments_lexer": "ipython3",
   "version": "3.9.13"
  }
 },
 "nbformat": 4,
 "nbformat_minor": 5
}
