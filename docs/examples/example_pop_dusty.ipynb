{
 "cells": [
  {
   "cell_type": "markdown",
   "id": "880831e6",
   "metadata": {},
   "source": [
    "# Self-Consistent Dust Reddening"
   ]
  },
  {
   "cell_type": "markdown",
   "id": "d289d484",
   "metadata": {},
   "source": [
    "In [Mirocha, Mason, & Stark (2020)](https://ui.adsabs.harvard.edu/abs/2020arXiv200507208M/abstract), we describe a simple extension to the now-standard galaxy model in ARES that generates ultraviolet colours self-consistently, rather than invoking IRX-$\\beta$ relations to perform a dust correction. Here, we describe how to work with these new models."
   ]
  },
  {
   "cell_type": "markdown",
   "id": "af78688e",
   "metadata": {},
   "source": [
    "### Preliminaries\n",
    "\n",
    "Before getting started, two lookup tables are required that don't ship by default with ARES (via the ``remote.py`` script; [see ARES installation](../install.html)):\n",
    "\n",
    "- A new halo mass function lookup table that employs the Tinker et al. 2010 results, rather than Sheth-Tormen (used in most earlier work with ARES).\n",
    "- A lookup table of halo mass assembly histories.\n",
    "\n",
    "To create these yourself, you'll need the [hmf](https://github.com/steven-murray/hmf>) code, which is installable via pip.\n",
    "\n",
    "This should only take a few minutes even in serial. First, navigate to ``$ARES/input/hmf``, where you should see a few ``.hdf5`` files and Python scripts. Open the file ``generate_hmf_tables.py`` and make the following adjustments to the parameter dictionary:"
   ]
  },
  {
   "cell_type": "code",
   "execution_count": 1,
   "id": "e21310b8",
   "metadata": {},
   "outputs": [],
   "source": [
    "def_kwargs = \\\n",
    "{\n",
    " \"hmf_model\": 'Tinker10',\n",
    "\n",
    " \"hmf_tmin\": 30,\n",
    " \"hmf_tmax\": 2e3,\n",
    " \"hmf_dt\": 1,\n",
    "\n",
    " \"cosmology_id\": 'paul',\n",
    " \"cosmology_name\": 'user',\n",
    " \"sigma_8\": 0.8159,\n",
    " 'primordial_index': 0.9652,\n",
    " 'omega_m_0': 0.315579,\n",
    " 'omega_b_0': 0.0491,\n",
    " 'hubble_0': 0.6726,\n",
    " 'omega_l_0': 1. - 0.315579,\n",
    "}"
   ]
  },
  {
   "cell_type": "markdown",
   "id": "bd29946e",
   "metadata": {},
   "source": [
    "The new HMF table will use constant 1 Myr time-steps, rather than the default redshift steps, and employ a cosmology designed to remain consistent with another project (led by a collaborator whose name you can probably guess)!\n",
    "\n",
    "Once you've run the ``generate_hmf_tables.py`` script, you should have a new file, ``hmf_Tinker10_user_paul_logM_1400_4-18_t_1971_30-2000.hdf5``, sitting inside ``$ARES/input/hmf``. Now, we're almost done. Simply execute:\n",
    "\n",
    "`python generate_halo_histories.py hmf_Tinker10_user_paul_logM_1400_4-18_t_1971_30-2000.hdf5`\n",
    "\n",
    "The additional resulting file, ``hgh_Tinker10_user_paul_logM_1400_4-18_t_1971_30-2000_xM_10_0.10.hdf5``, will be found automatically in subsequent calculations."
   ]
  },
  {
   "cell_type": "markdown",
   "id": "a9f2c318",
   "metadata": {},
   "source": [
    "### Example\n",
    "\n",
    "\n",
    "With the required lookup tables now in hand, we can start in the usual way:"
   ]
  },
  {
   "cell_type": "code",
   "execution_count": 2,
   "id": "2e28d77b",
   "metadata": {},
   "outputs": [
    {
     "name": "stdout",
     "output_type": "stream",
     "text": [
      "Populating the interactive namespace from numpy and matplotlib\n"
     ]
    }
   ],
   "source": [
    "%pylab inline\n",
    "import ares\n",
    "import numpy as np\n",
    "import matplotlib.pyplot as pl"
   ]
  },
  {
   "cell_type": "markdown",
   "id": "d48a6674",
   "metadata": {},
   "source": [
    "and read-in the best-fit parameters via"
   ]
  },
  {
   "cell_type": "code",
   "execution_count": 3,
   "id": "78010b4c",
   "metadata": {},
   "outputs": [],
   "source": [
    "pars = ares.util.ParameterBundle('mirocha2020:univ')"
   ]
  },
  {
   "cell_type": "markdown",
   "id": "032524d1",
   "metadata": {},
   "source": [
    "Now, we create a ``GalaxyPopulation`` object,"
   ]
  },
  {
   "cell_type": "code",
   "execution_count": 4,
   "id": "8491fa1c",
   "metadata": {},
   "outputs": [],
   "source": [
    "pop = ares.populations.GalaxyPopulation(**pars)"
   ]
  },
  {
   "cell_type": "markdown",
   "id": "31483316",
   "metadata": {},
   "source": [
    "which is an instance of the ``GalaxyEnsemble`` class, rather than the ``GalaxyCohort`` class, the latter of which is described in [this example](example_pop_galaxy). This offers a more general approach, including more complex star formation histories and proper treatment of spectral synthesis.\n",
    "\n",
    "We can plot the UVLF in the usual way,"
   ]
  },
  {
   "cell_type": "code",
   "execution_count": 5,
   "id": "9cd56bc2",
   "metadata": {},
   "outputs": [
    {
     "name": "stderr",
     "output_type": "stream",
     "text": [
      "/Users/jordanmirocha/Dropbox/work/soft/miniconda3/lib/python3.7/site-packages/numpy/ma/core.py:2826: UserWarning: Warning: converting a masked element to nan.\n",
      "  order=order, subok=True, ndmin=ndmin)\n",
      "/Users/jordanmirocha/Dropbox/work/soft/miniconda3/lib/python3.7/site-packages/numpy/core/_asarray.py:171: UserWarning: Warning: converting a masked element to nan.\n",
      "  return array(a, dtype, copy=False, order=order, subok=True)\n",
      "/Users/jordanmirocha/Dropbox/work/soft/miniconda3/lib/python3.7/site-packages/numpy/core/_asarray.py:102: UserWarning: Warning: converting a masked element to nan.\n",
      "  return array(a, dtype, copy=False, order=order)\n"
     ]
    },
    {
     "name": "stdout",
     "output_type": "stream",
     "text": [
      "# WARNING: finkelstein2015 wavelength=1500.0A, not 1600A!\n",
      "# Loaded $ARES/input/hmf/hgh_Tinker10_user_paul_logM_1400_4-18_t_1971_30-2000_xM_10_0.10.hdf5.\n",
      "# Loaded $ARES/input/hmf/hmf_Tinker10_user_paul_logM_1400_4-18_t_1971_30-2000.hdf5.\n",
      "# Loaded $ARES/input/bpass_v1/SEDS/sed.bpass.instant.nocont.sin.z004.deg10\n"
     ]
    },
    {
     "data": {
      "text/plain": [
       "[<matplotlib.lines.Line2D at 0x1901dcdd0>]"
      ]
     },
     "execution_count": 5,
     "metadata": {},
     "output_type": "execute_result"
    },
    {
     "data": {
      "image/png": "[encoded data removed]",
      "text/plain": [
       "<Figure size 432x288 with 1 Axes>"
      ]
     },
     "metadata": {
      "needs_background": "light"
     },
     "output_type": "display_data"
    }
   ],
   "source": [
    "# First, some data\n",
    "obslf = ares.analysis.GalaxyPopulation()\n",
    "ax = obslf.PlotLF(z=6, round_z=0.2)\n",
    "\n",
    "# Now, the predicted/calibrated UVLF\n",
    "mags = np.arange(-30, 10, 0.5)\n",
    "_mags, phi = pop.LuminosityFunction(6, mags)\n",
    "\n",
    "ax.semilogy(mags, phi)"
   ]
  },
  {
   "cell_type": "markdown",
   "id": "113f0bb2",
   "metadata": {},
   "source": [
    "The main difference between these models and the simpler models (from, e.g., the ``mirocha2017`` parameter bundle) is access to UV colours. To access them, you can do, e.g., "
   ]
  },
  {
   "cell_type": "code",
   "execution_count": 6,
   "id": "fdf5f4b1",
   "metadata": {},
   "outputs": [
    {
     "name": "stderr",
     "output_type": "stream",
     "text": [
      "l(nu): 100% |###############################################| Time:  0:00:01 \n",
      "l(nu): 100% |###############################################| Time:  0:00:00 \n"
     ]
    },
    {
     "data": {
      "text/plain": [
       "<matplotlib.collections.PathCollection at 0x1831c7590>"
      ]
     },
     "execution_count": 6,
     "metadata": {},
     "output_type": "execute_result"
    },
    {
     "data": {
      "image/png": "[encoded data removed]",
      "text/plain": [
       "<Figure size 432x288 with 1 Axes>"
      ]
     },
     "metadata": {
      "needs_background": "light"
     },
     "output_type": "display_data"
    }
   ],
   "source": [
    "filt, mags = pop.get_mags(6., presets='hst', wave=1600., )\n",
    "beta = pop.get_beta(6., presets='hst')\n",
    "pl.scatter(mags, beta, alpha=0.1, color='b', edgecolors='none')"
   ]
  },
  {
   "cell_type": "markdown",
   "id": "d3994a68",
   "metadata": {},
   "source": [
    "This will take order $\\simeq 10$ seconds, as modeling UV colours requires synthesizing a reasonbly high resolution ($\\Delta \\lambda = 20 \\unicode{x212B}$ by default) spectrum for each galaxy in the model, so that there are multiple points within photometric windows.\n",
    "\n",
    "This example computes the UV slope $\\beta$ using the *Hubble* filters appropriate for the input redshift (see Table A1 in the paper).\n",
    "\n",
    "**NOTE:** Other ``presets`` include ``'jwst'``, ``'jwst-w'``, ``'jwst-m'``, and ``'calzetti1994'``."
   ]
  },
  {
   "cell_type": "markdown",
   "id": "ac22159d",
   "metadata": {},
   "source": [
    "You can bin points in the $M_{\\text{UV}}-\\beta$ plane, if you prefer it, via the ``return_binned`` keyword argument,"
   ]
  },
  {
   "cell_type": "code",
   "execution_count": 7,
   "id": "50d956c7",
   "metadata": {},
   "outputs": [
    {
     "name": "stderr",
     "output_type": "stream",
     "text": [
      "l(nu): 100% |###############################################| Time:  0:00:00 \n"
     ]
    },
    {
     "data": {
      "text/plain": [
       "<ErrorbarContainer object of 3 artists>"
      ]
     },
     "execution_count": 7,
     "metadata": {},
     "output_type": "execute_result"
    },
    {
     "data": {
      "image/png": "[encoded data removed]",
      "text/plain": [
       "<Figure size 432x288 with 1 Axes>"
      ]
     },
     "metadata": {
      "needs_background": "light"
     },
     "output_type": "display_data"
    }
   ],
   "source": [
    "# Plot scatter in each MUV bin as errorbars\n",
    "mags = np.arange(-25, -10, 0.5) # bin centers\n",
    "beta, beta_s = pop.get_beta(6., presets='hst', Mbins=mags, return_binned=True,\n",
    "    return_scatter=True)\n",
    "\n",
    "pl.errorbar(mags, beta, yerr=beta_s.T, color='b', marker='s', fmt='o')"
   ]
  },
  {
   "cell_type": "markdown",
   "id": "836ad1ff",
   "metadata": {},
   "source": [
    "**NOTE:** Computing colors from fits in the [Calzetti et al. 1994](https://ui.adsabs.harvard.edu/abs/1994ApJ...429..582C/abstract>) windows requires higher spectral resolution, given that these windows are each only $\\Delta \\lambda \\sim 10 \\unicode{x212B}$ wide. Adjust the ``dlam`` keyword argument to increase the wavelength-sampling used prior to photometric UV slope estimation."
   ]
  },
  {
   "cell_type": "markdown",
   "id": "bf550379",
   "metadata": {},
   "source": [
    "Lastly, to extract the \"raw\" galaxy population properties, like SFR, stellar mass, etc., you can use the ``get_field`` method, e.g.,"
   ]
  },
  {
   "cell_type": "code",
   "execution_count": 8,
   "id": "79035a8f",
   "metadata": {},
   "outputs": [],
   "source": [
    "Ms = pop.get_field(6., 'Ms') # stellar mass\n",
    "Md = pop.get_field(6., 'Md') # dust mass\n",
    "Sd = pop.get_field(6., 'Sd') # dust surface density\n",
    "# etc."
   ]
  },
  {
   "cell_type": "markdown",
   "id": "6f835f27",
   "metadata": {},
   "source": [
    "To see what's available, check out"
   ]
  },
  {
   "cell_type": "code",
   "execution_count": 9,
   "id": "9e9a6612",
   "metadata": {},
   "outputs": [
    {
     "data": {
      "text/plain": [
       "dict_keys(['nh', 'Mh', 'MAR', 't', 'z', 'children', 'zthin', 'SFR', 'Ms', 'MZ', 'Md', 'Sd', 'fcov', 'Mg', 'Z', 'bursty', 'pos', 'Nsn', 'rand'])"
      ]
     },
     "execution_count": 9,
     "metadata": {},
     "output_type": "execute_result"
    }
   ],
   "source": [
    "pop.histories.keys()"
   ]
  },
  {
   "cell_type": "markdown",
   "id": "410f94d2",
   "metadata": {},
   "source": [
    "From these simple commands, most plots and analyses from the paper can be reproduced in relatively short order."
   ]
  },
  {
   "cell_type": "markdown",
   "id": "f3bd5ac7",
   "metadata": {},
   "source": [
    "### Notes on performance\n",
    "\n",
    "The compute time for these models is determined largely by three factors:\n",
    "\n",
    "* The number of halos (really halo bins) we evolve forward in time. The default ``mirocha2020:univ`` models use $\\Delta \\log_{10} M_h = 0.01$ mass-bins, each with 10 halos (``pop_thin_hist=10``). For a larger sample, e.g., when lots of scatter is being employed, larger values of ``pop_thin_hist`` may be warranted.\n",
    "* The number of observed redshifts at which $\\beta$ is synthesize, since new spectra must be generated.\n",
    "* The number of wavelengths used to sample the intrinsic UV spectrum of galaxies. When computing $\\beta$ via photometry (Hubble or JWST), $\\Delta \\lambda = 20 \\unicode{x212B}$ will generally suffice. \n",
    "\n",
    "For the models in [Mirocha, Mason, & Stark (2020)](https://ui.adsabs.harvard.edu/abs/2020arXiv200507208M/abstract>), with $\\Delta \\log_{10} M_h = 0.01$ (``hmf_logM=0.01``), ``pop_thin_hist=10``, calibrating at two redshifts for $\\beta$ (4 and 6), with $\\Delta \\lambda = 20 \\unicode{x212B}$, each model takes $\\sim 10-20$ seconds, depending on your machine.\n",
    "\n",
    "**NOTE:** Generating the UVLF is essentially free compared to computing $\\beta$.\n",
    "\n",
    "For more information on what's happening under the hood, e.g., with regards to spectral synthesis and noisy star-formation histories, see [Example: spectral synthesis](../example_pop_sps.html).\n"
   ]
  },
  {
   "cell_type": "code",
   "execution_count": null,
   "id": "fb1ba5be",
   "metadata": {},
   "outputs": [],
   "source": []
  },
  {
   "cell_type": "code",
   "execution_count": null,
   "id": "b3daebef",
   "metadata": {},
   "outputs": [],
   "source": []
  }
 ],
 "metadata": {
  "kernelspec": {
   "display_name": "Python 3 (ipykernel)",
   "language": "python",
   "name": "python3"
  },
  "language_info": {
   "codemirror_mode": {
    "name": "ipython",
    "version": 3
   },
   "file_extension": ".py",
   "mimetype": "text/x-python",
   "name": "python",
   "nbconvert_exporter": "python",
   "pygments_lexer": "ipython3",
   "version": "3.7.6"
  }
 },
 "nbformat": 4,
 "nbformat_minor": 5
}
