{
 "cells": [
  {
   "cell_type": "markdown",
   "id": "88e92827",
   "metadata": {},
   "source": [
    "# The Metagalactic X-ray Background"
   ]
  },
  {
   "cell_type": "markdown",
   "id": "7174c853",
   "metadata": {},
   "source": [
    "In this example, we'll compute the Meta-Galactic X-ray background over a series of redshifts ($10 \\leq z \\leq 40$). To start, the usual imports:"
   ]
  },
  {
   "cell_type": "code",
   "execution_count": 1,
   "id": "5eb78166",
   "metadata": {},
   "outputs": [
    {
     "name": "stdout",
     "output_type": "stream",
     "text": [
      "Populating the interactive namespace from numpy and matplotlib\n"
     ]
    }
   ],
   "source": [
    "%pylab inline\n",
    "import ares\n",
    "import numpy as np\n",
    "import matplotlib.pyplot as pl\n",
    "from ares.physics.Constants import c, ev_per_hz, erg_per_ev"
   ]
  },
  {
   "cell_type": "code",
   "execution_count": 2,
   "id": "83dae27c",
   "metadata": {},
   "outputs": [],
   "source": [
    "# Initialize radiation background\n",
    "pars = \\\n",
    "{\n",
    " # Source properties\n",
    " 'pop_sfr_model': 'sfrd-func',\n",
    " 'pop_sfrd': lambda z: 0.1,\n",
    " \n",
    " 'pop_sed': 'pl',\n",
    " 'pop_alpha': -1.5,\n",
    " 'pop_Emin': 2e2,\n",
    " 'pop_Emax': 3e4,\n",
    " 'pop_EminNorm': 5e2,\n",
    " 'pop_EmaxNorm': 8e3,\n",
    " 'pop_rad_yield': 2.6e39,\n",
    " 'pop_rad_yield_units': 'erg/s/sfr',\n",
    " \n",
    " # Solution method\n",
    " 'pop_solve_rte': True,\n",
    " 'tau_redshift_bins': 400,\n",
    "\n",
    "\n",
    " 'initial_redshift': 60.,\n",
    " 'final_redshift': 5.,\n",
    "}"
   ]
  },
  {
   "cell_type": "markdown",
   "id": "f89d7d2a",
   "metadata": {},
   "source": [
    "To summarize these inputs, we've got:\n",
    "\n",
    "* A constant SFRD of $0.1 \\ M_{\\odot} \\ \\mathrm{yr}^{-1} \\ \\mathrm{cMpc}^{-3}$, given by the ``pop_sfrd`` parameter.\n",
    "* A power-law spectrum with index $\\alpha=-1.5$, given by ``pop_sed`` and ``pop_alpha``, extending from 0.2 keV to 30 keV.\n",
    "* A yield of $2.6 \\times 10^{39} \\ \\mathrm{erg} \\ \\mathrm{s}^{-1} \\ (M_{\\odot} \\ \\mathrm{yr})^{-1}$ in the $0.5 \\leq h\\nu / \\mathrm{keV} \\leq  8$ band, set by ``pop_EminNorm``, ``pop_EmaxNorm``, ``pop_yield``, and ``pop_yield_units``. This is the $L_X-\\mathrm{SFR}$ relation found by [Mineo et al. (2012)](http://adsabs.harvard.edu/abs/2012MNRAS.419.2095M).\n",
    "\n",
    "See the complete listing of parameters relevant to :class:`ares.populations.GalaxyPopulation` objects [here](../params_populations.html).\n",
    "    \n",
    "Now, to initialize a calculation and run it:"
   ]
  },
  {
   "cell_type": "code",
   "execution_count": 3,
   "id": "66b26a14",
   "metadata": {},
   "outputs": [],
   "source": [
    "mgb = ares.simulations.MetaGalacticBackground(**pars)\n",
    "mgb.run()"
   ]
  },
  {
   "cell_type": "markdown",
   "id": "8dc95ce5",
   "metadata": {},
   "source": [
    "We'll pull out the evolution of the background just as we did in the [UV background](example_crb_uv) example:"
   ]
  },
  {
   "cell_type": "code",
   "execution_count": 4,
   "id": "775cca21",
   "metadata": {},
   "outputs": [],
   "source": [
    "z, E, flux = mgb.get_history(flatten=True)"
   ]
  },
  {
   "cell_type": "markdown",
   "id": "08e9da0c",
   "metadata": {},
   "source": [
    "and plot up the result (at the final redshift):"
   ]
  },
  {
   "cell_type": "code",
   "execution_count": 5,
   "id": "f45f6a27",
   "metadata": {},
   "outputs": [
    {
     "data": {
      "text/plain": [
       "Text(0, 0.5, '$J_{\\\\nu} \\\\ (\\\\mathrm{erg} \\\\ \\\\mathrm{s}^{-1} \\\\ \\\\mathrm{cm}^{-2} \\\\ \\\\mathrm{Hz}^{-1} \\\\ \\\\mathrm{sr}^{-1})$')"
      ]
     },
     "execution_count": 5,
     "metadata": {},
     "output_type": "execute_result"
    },
    {
     "data": {
      "image/png": "[encoded data removed]",
      "text/plain": [
       "<Figure size 432x288 with 1 Axes>"
      ]
     },
     "metadata": {
      "needs_background": "light"
     },
     "output_type": "display_data"
    }
   ],
   "source": [
    "pl.semilogy(E, flux[0] * E * erg_per_ev, color='k')\n",
    "pl.xlabel(ares.util.labels['E'])\n",
    "pl.ylabel(ares.util.labels['flux_E'])"
   ]
  },
  {
   "cell_type": "markdown",
   "id": "b6e4020a",
   "metadata": {},
   "source": [
    "Compare to the analytic solution, given by Equation A1 in [Mirocha (2014)](http://adsabs.harvard.edu/abs/2014arXiv1406.4120M>) (the *cosmologically-limited* solution to the radiative transfer equation)\n",
    "\n",
    "$J_{\\nu}(z) = \\frac{c}{4\\pi} \\frac{\\epsilon_{\\nu}(z)}{H(z)} \\frac{(1 + z)^{9/2-(\\alpha + \\beta)}}{\\alpha+\\beta-3/2} \\times \\left[(1 + z_i)^{\\alpha+\\beta-3/2} - (1 + z)^{\\alpha+\\beta-3/2}\\right]$\n",
    "\n",
    "with $\\alpha = -1.5$, $\\beta = 0$, $z=5$, and $z_i=60$,"
   ]
  },
  {
   "cell_type": "code",
   "execution_count": 6,
   "id": "952fbee5",
   "metadata": {},
   "outputs": [
    {
     "data": {
      "text/plain": [
       "[<matplotlib.lines.Line2D at 0x18367a550>]"
      ]
     },
     "execution_count": 6,
     "metadata": {},
     "output_type": "execute_result"
    },
    {
     "data": {
      "image/png": "[encoded data removed]",
      "text/plain": [
       "<Figure size 432x288 with 1 Axes>"
      ]
     },
     "metadata": {
      "needs_background": "light"
     },
     "output_type": "display_data"
    }
   ],
   "source": [
    "# Grab the GalaxyPopulation instance\n",
    "pop = mgb.pops[0] \n",
    "\n",
    "# Plot the numerical solution again\n",
    "pl.semilogy(E, flux[0] * E * erg_per_ev, color='k')\n",
    "\n",
    "# Compute cosmologically-limited solution\n",
    "e_nu = np.array([pop.Emissivity(10., energy) for energy in E])\n",
    "e_nu *= c / 4. / np.pi / pop.cosm.HubbleParameter(5.) \n",
    "e_nu *= (1. + 5.)**6. / -3.\n",
    "e_nu *= ((1. + 60.)**-3. - (1. + 5.)**-3.)\n",
    "e_nu *= ev_per_hz\n",
    "\n",
    "\n",
    "# Plot it\n",
    "pl.semilogy(E, e_nu, color='b', ls='--')"
   ]
  },
  {
   "cell_type": "markdown",
   "id": "4229dc12",
   "metadata": {},
   "source": [
    "## Neutral Absorption by the Diffuse IGM\n",
    "\n",
    "The calculation above is basically identical to the optically-thin UV background calculations performed in the previous example, at least in the cases where we neglected any sawtooth effects. While there is no modification to the X-ray background due to resonant absorption in the Lyman series (of Hydrogen or Helium II), bound-free absorption by intergalactic hydrogen and helium atoms acts to harden the spectrum. By default, ARES will *not* include these effects.\n",
    "\n",
    "To \"turn on\" bound-free absorption in the IGM, modify the dictionary of parameters you've got already:"
   ]
  },
  {
   "cell_type": "code",
   "execution_count": 7,
   "id": "9e698887",
   "metadata": {},
   "outputs": [],
   "source": [
    "pars['tau_approx'] = 'neutral'"
   ]
  },
  {
   "cell_type": "markdown",
   "id": "477c4ba9",
   "metadata": {},
   "source": [
    "Now, initialize and run a new calculation:"
   ]
  },
  {
   "cell_type": "code",
   "execution_count": 8,
   "id": "e2a93922",
   "metadata": {},
   "outputs": [
    {
     "name": "stdout",
     "output_type": "stream",
     "text": [
      "# Loaded /Users/jordanmirocha/Dropbox/work/mods/ares/input/optical_depth/optical_depth_planck_TTTEEE_lowl_lowE_best_H_400x862_z_5-60_logE_2.3-4.5.hdf5.\n"
     ]
    }
   ],
   "source": [
    "mgb2 = ares.simulations.MetaGalacticBackground(**pars)\n",
    "mgb2.run()"
   ]
  },
  {
   "cell_type": "markdown",
   "id": "e37ceac1",
   "metadata": {},
   "source": [
    "and plot the result on the previous results:"
   ]
  },
  {
   "cell_type": "code",
   "execution_count": 9,
   "id": "db3da79e",
   "metadata": {},
   "outputs": [],
   "source": [
    "z2, E2, flux2 = mgb2.get_history(flatten=True)"
   ]
  },
  {
   "cell_type": "code",
   "execution_count": 10,
   "id": "bdfbd472",
   "metadata": {},
   "outputs": [
    {
     "data": {
      "text/plain": [
       "[<matplotlib.lines.Line2D at 0x183933350>]"
      ]
     },
     "execution_count": 10,
     "metadata": {},
     "output_type": "execute_result"
    },
    {
     "data": {
      "image/png": "[encoded data removed]",
      "text/plain": [
       "<Figure size 432x288 with 1 Axes>"
      ]
     },
     "metadata": {
      "needs_background": "light"
     },
     "output_type": "display_data"
    }
   ],
   "source": [
    "# Plot the numerical solution again\n",
    "pl.semilogy(E, flux[0] * E * erg_per_ev, color='k')\n",
    "pl.loglog(E2, flux2[0] * E2 * erg_per_ev, color='b', ls=':', lw=3)"
   ]
  },
  {
   "cell_type": "markdown",
   "id": "d7b667ee",
   "metadata": {},
   "source": [
    "The behavior at low photon energies ($h\\nu \\lesssim 0.3 \\ \\mathrm{keV}$) is an artifact that arises due to poor redshift resolution. This is a trade made for speed in solving the cosmological radiative transfer equation, discussed in detail in Section 3 of [Mirocha (2014)](http://adsabs.harvard.edu/abs/2014arXiv1406.4120M>). For more accurate calculations, you must enhance the redshift sampling using the ``tau_redshift_bins`` parameter, e.g.,"
   ]
  },
  {
   "cell_type": "code",
   "execution_count": 11,
   "id": "e5e62ac0",
   "metadata": {},
   "outputs": [],
   "source": [
    "pars['tau_redshift_bins'] = 1000"
   ]
  },
  {
   "cell_type": "markdown",
   "id": "b77898d9",
   "metadata": {},
   "source": [
    "The default optical depth lookup tables that ship with *ARES* use ``tau_redshift_bins=400``, but tables with ``tau_redshift_bins=1000`` are also provided. You can run ``$ARES/input/optical_depth/generate_optical_depth_tables.py`` if you'd like to generate tables with a different resolution."
   ]
  }
 ],
 "metadata": {
  "kernelspec": {
   "display_name": "Python 3 (ipykernel)",
   "language": "python",
   "name": "python3"
  },
  "language_info": {
   "codemirror_mode": {
    "name": "ipython",
    "version": 3
   },
   "file_extension": ".py",
   "mimetype": "text/x-python",
   "name": "python",
   "nbconvert_exporter": "python",
   "pygments_lexer": "ipython3",
   "version": "3.7.6"
  }
 },
 "nbformat": 4,
 "nbformat_minor": 5
}
