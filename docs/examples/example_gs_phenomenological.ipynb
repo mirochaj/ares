{
 "cells": [
  {
   "cell_type": "markdown",
   "id": "052f183f",
   "metadata": {},
   "source": [
    "# Phenomenological Models for the Global 21-cm Signal"
   ]
  },
  {
   "cell_type": "markdown",
   "id": "72b88425",
   "metadata": {},
   "source": [
    "Two common phenomenological parameterizations for the global 21-cm signal are included in *ARES* and get their own set of pre-defined parameters: the tanh and Gaussian models. To generate them (without default parameters) one need only do:"
   ]
  },
  {
   "cell_type": "code",
   "execution_count": 1,
   "id": "afc94f23",
   "metadata": {
    "scrolled": true
   },
   "outputs": [
    {
     "name": "stdout",
     "output_type": "stream",
     "text": [
      "Populating the interactive namespace from numpy and matplotlib\n",
      "# Loaded $ARES/input/inits/inits_planck_TTTEEE_lowl_lowE_best.txt.\n",
      "# Loaded $ARES/input/inits/inits_planck_TTTEEE_lowl_lowE_best.txt.\n",
      "\n",
      "############################################################################\n",
      "##                       ARES Simulation: Overview                        ##\n",
      "############################################################################\n",
      "Phenomenological model! Not much to report...\n",
      "############################################################################\n",
      "# Loaded $ARES/input/inits/inits_planck_TTTEEE_lowl_lowE_best.txt.\n",
      "\n",
      "############################################################################\n",
      "##                       ARES Simulation: Overview                        ##\n",
      "############################################################################\n",
      "Phenomenological model! Not much to report...\n",
      "############################################################################\n"
     ]
    },
    {
     "data": {
      "image/png": "[encoded data removed]",
      "text/plain": [
       "<Figure size 432x288 with 3 Axes>"
      ]
     },
     "metadata": {
      "needs_background": "light"
     },
     "output_type": "display_data"
    }
   ],
   "source": [
    "%pylab inline\n",
    "import ares\n",
    "import numpy as np\n",
    "import matplotlib.pyplot as pl\n",
    "    \n",
    "sim_1 = ares.simulations.Global21cm(tanh_model=True)\n",
    "sim_2 = ares.simulations.Global21cm(gaussian_model=True)\n",
    "    \n",
    "# Have a look\n",
    "ax, zax = sim_1.GlobalSignature(color='k', fig=1)\n",
    "ax, zax = sim_2.GlobalSignature(color='b', ax=ax)"
   ]
  },
  {
   "cell_type": "markdown",
   "id": "fa67ebbd",
   "metadata": {},
   "source": [
    "Now, you might say \"I could have done that myself extremely easily.\" You'd be right! However, sometimes there's an advantage in working through *ARES* even when using simply parametric forms for the global 21-cm signal. For example, you can tap into *ARES*' inference module and fit data, perform forecasting, or run large sets of models. In each of these applications, *ARES* can take care of some annoying things for you, like tracking the quantities you care about and saving them to disk in a format that can be easily analyzed later on. For more concrete examples, check out the following pages:\n",
    "\n",
    "* [Example: Inline Analysis](example_inline_analysis)\n",
    "* [Example: MCMC Global Signal](example_mcmc_gs)\n",
    "* [Example: MC Sampling](example_mc_sampling)\n",
    "* [Example: MCMC Analysis](example_mcmc_analysis)\n",
    "\n",
    "In the remaining sections we'll cover different ways to parameterize the signal."
   ]
  },
  {
   "cell_type": "markdown",
   "id": "c4410ac5",
   "metadata": {},
   "source": [
    "### Parameterizing the IGM "
   ]
  },
  {
   "cell_type": "markdown",
   "id": "cbb22087",
   "metadata": {},
   "source": [
    "Whereas the Gaussian absorption model makes no link between the brightness temperature and the underlying quantities of interest (ionization history, etc.), the tanh model first models $J_{\\alpha}(z)$, $T_K(z)$, and $x_i(z)$, and from those histories produces $\\delta T_b(z)$.\n",
    "\n",
    "Now, let's assemble a set of parameters that will generate a global 21-cm signal using ParameterizedQuantity objects for each main piece: the thermal, ionization, and Ly-$\\alpha$ histories. We'll assume that the thermal and ionization histories are *tanh* functions, but take the Ly-$\\alpha$ background evolution to be a power-law in redshift:\n"
   ]
  },
  {
   "cell_type": "code",
   "execution_count": 2,
   "id": "8a69e8c5",
   "metadata": {},
   "outputs": [],
   "source": [
    "pars = \\\n",
    "    {\n",
    "        'problem_type': 100,           # blank slate global 21-cm signal problem\n",
    "        'parametric_model': True,      # in lieu of, e.g., tanh_model=True\n",
    "        \n",
    "        # Lyman alpha history first: ParameterizedQuantity #0\n",
    "        'pop_Ja': 'pq[0]',\n",
    "        'pq_func[0]': 'pl',         # Ja(z) = p0 * ((1 + z) / p1)**p2\n",
    "        'pq_func_var[0]': '1+z',\n",
    "        'pq_func_par0[0]': 1e-9,\n",
    "        'pq_func_par1[0]': 20.,\n",
    "        'pq_func_par2[0]': -7.,\n",
    "        \n",
    "        # Thermal history: ParameterizedQuantity #1\n",
    "        'pop_Tk': 'pq[1]',         # Tk(z) = p1 + (p0 - p1) * 0.5 * (1 + tanh((p2 - z) / p3))\n",
    "        'pq_func[1]': 'tanh_abs',\n",
    "        'pq_func_var[1]': 'z',\n",
    "        'pq_func_par0[1]': 1e3,\n",
    "        'pq_func_par1[1]': 0.,\n",
    "        'pq_func_par2[1]': 8.,\n",
    "        'pq_func_par3[1]': 6.,\n",
    "        \n",
    "        # Ionization history: ParameterizedQuantity #2\n",
    "        'pop_xi': 'pq[2]',        # xi(z) = p1 + (p0 - p1) * 0.5 * (1 + tanh((p2 - z) / p3))\n",
    "        'pq_func[2]': 'tanh_abs',\n",
    "        'pq_func_var[2]': 'z',\n",
    "        'pq_func_par0[2]': 1,\n",
    "        'pq_func_par1[2]': 0.,\n",
    "        'pq_func_par2[2]': 8.,\n",
    "        'pq_func_par3[2]': 2.,\n",
    "    }"
   ]
  },
  {
   "cell_type": "markdown",
   "id": "c97f3368",
   "metadata": {},
   "source": [
    "**NOTE:** The thermal history automatically includes the adiabatic cooling term, so users need not add account for that explicitly.\n",
    "\n",
    "To run it, as always:"
   ]
  },
  {
   "cell_type": "code",
   "execution_count": 3,
   "id": "4ad36cbb",
   "metadata": {},
   "outputs": [
    {
     "name": "stdout",
     "output_type": "stream",
     "text": [
      "# Loaded $ARES/input/inits/inits_planck_TTTEEE_lowl_lowE_best.txt.\n",
      "# Loaded $ARES/input/inits/inits_planck_TTTEEE_lowl_lowE_best.txt.\n",
      "\n",
      "############################################################################\n",
      "##                       ARES Simulation: Overview                        ##\n",
      "############################################################################\n",
      "Phenomenological model! Not much to report...\n",
      "############################################################################\n"
     ]
    },
    {
     "data": {
      "text/plain": [
       "(<AxesSubplot:xlabel='$\\\\nu \\\\ (\\\\mathrm{MHz})$', ylabel='$\\\\delta T_b \\\\ (\\\\mathrm{mK})$'>,\n",
       " <AxesSubplot:label='cf0167c6-6c20-4788-be11-7a57cf9d2b2d', xlabel='$z$'>)"
      ]
     },
     "execution_count": 3,
     "metadata": {},
     "output_type": "execute_result"
    },
    {
     "data": {
      "text/plain": [
       "<Figure size 432x288 with 0 Axes>"
      ]
     },
     "metadata": {},
     "output_type": "display_data"
    }
   ],
   "source": [
    "sim_3 = ares.simulations.Global21cm(**pars)\n",
    "sim_3.GlobalSignature(color='r', ax=ax)"
   ]
  },
  {
   "cell_type": "markdown",
   "id": "2a5dee0b",
   "metadata": {},
   "source": [
    "Now, because the parameters of these models are hard to intuit ahead of time, it can be useful to run a set of them. As per usual, we can use some built-in machinery."
   ]
  },
  {
   "cell_type": "code",
   "execution_count": 4,
   "id": "1df1bde5",
   "metadata": {},
   "outputs": [],
   "source": [
    "blob_pars = ares.util.BlobBundle('gs:basics') \\\n",
    "          + ares.util.BlobBundle('gs:history')\n",
    "\n",
    "base_pars = pars.copy()\n",
    "base_pars.update(blob_pars)\n",
    "    \n",
    "mg = ares.inference.ModelGrid(**base_pars)"
   ]
  },
  {
   "cell_type": "markdown",
   "id": "7c896b13",
   "metadata": {},
   "source": [
    "Let's focus on the $J_{\\alpha}(z)$ parameters:"
   ]
  },
  {
   "cell_type": "code",
   "execution_count": 5,
   "id": "2fd2336a",
   "metadata": {},
   "outputs": [
    {
     "name": "stdout",
     "output_type": "stream",
     "text": [
      "Starting 143-element model grid.\n",
      "Running 143-element model grid.\n"
     ]
    },
    {
     "name": "stderr",
     "output_type": "stream",
     "text": [
      "grid: 100% |################################################| Time:  0:00:18 \n"
     ]
    },
    {
     "name": "stdout",
     "output_type": "stream",
     "text": [
      "Processor 0: Wrote test_Ja_pl.*.pkl (Tue Feb  8 14:52:54 2022)\n",
      "Calculation complete: Tue Feb  8 14:52:54 2022\n",
      "Elapsed time (min)  : 0.309\n"
     ]
    }
   ],
   "source": [
    "mg.axes = {'pq_func_par1[0]': np.arange(15, 26, 1), \n",
    "           'pq_func_par2[0]': np.arange(-9, -2.5, 0.5)}\n",
    "    \n",
    "mg.run('test_Ja_pl', clobber=True)"
   ]
  },
  {
   "cell_type": "markdown",
   "id": "630fa32a",
   "metadata": {},
   "source": [
    "and a quick plot:"
   ]
  },
  {
   "cell_type": "code",
   "execution_count": 6,
   "id": "df60b0b9",
   "metadata": {},
   "outputs": [
    {
     "name": "stdout",
     "output_type": "stream",
     "text": [
      "\n",
      "############################################################################\n",
      "##                          Analysis: Model Set                           ##\n",
      "############################################################################\n",
      "## ---------------------------------------------------------------------- ##\n",
      "## Basic Information                                                      ##\n",
      "## ---------------------------------------------------------------------- ##\n",
      "## path        : ./                                                       ##\n",
      "## prefix      : test_Ja_pl                                               ##\n",
      "## N-d         : 2                                                        ##\n",
      "## ---------------------------------------------------------------------- ##\n",
      "## param    #00: pq_func_par1[0]                                          ##\n",
      "## param    #01: pq_func_par2[0]                                          ##\n",
      "############################################################################\n",
      "\n",
      "# Loaded test_Ja_pl.000.blob_0d.z_C.pkl\n"
     ]
    },
    {
     "data": {
      "text/plain": [
       "<AxesSubplot:xlabel='par 0', ylabel='par 1'>"
      ]
     },
     "execution_count": 6,
     "metadata": {},
     "output_type": "execute_result"
    },
    {
     "data": {
      "image/png": "[encoded data removed]",
      "text/plain": [
       "<Figure size 432x288 with 2 Axes>"
      ]
     },
     "metadata": {
      "needs_background": "light"
     },
     "output_type": "display_data"
    }
   ],
   "source": [
    "anl = ares.analysis.ModelSet('test_Ja_pl')\n",
    "    \n",
    "anl.Scatter(anl.parameters, c='z_C', fig=4, edgecolors='none')"
   ]
  }
 ],
 "metadata": {
  "kernelspec": {
   "display_name": "Python 3 (ipykernel)",
   "language": "python",
   "name": "python3"
  },
  "language_info": {
   "codemirror_mode": {
    "name": "ipython",
    "version": 3
   },
   "file_extension": ".py",
   "mimetype": "text/x-python",
   "name": "python",
   "nbconvert_exporter": "python",
   "pygments_lexer": "ipython3",
   "version": "3.7.6"
  }
 },
 "nbformat": 4,
 "nbformat_minor": 5
}
